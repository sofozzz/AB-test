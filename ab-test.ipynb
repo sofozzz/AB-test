{
 "cells": [
  {
   "cell_type": "markdown",
   "metadata": {},
   "source": [
    "# Анализ результатов А/В тестов"
   ]
  },
  {
   "cell_type": "markdown",
   "metadata": {},
   "source": [
    "<b>Условие:</b>\n",
    "    В апреле - мае 2017 года внедрялась новая форма оформления заказа, была осуществлена замена многостраничной формы на одностраничную. Переход проходил поэтапно, через череду А/В тестов и откатов к прежним версиям для фиксации критических багов. К концу мая одностраничная форма была внедрена окончательно. На базе имеющихся данных определить изменилась ли конверсия в связи с этим переходом. Если эффект был, то дать оценку. Выводы с обоснованием предоставить в виде аналитической записки лидеру проекта. Никаких ограничений по форме представления информации нет.\n"
   ]
  },
  {
   "cell_type": "markdown",
   "metadata": {},
   "source": [
    "<b>Вопрос:</b>\n",
    "    Изменилась ли конверсия в связи с переходом на однострунную форму оформления заказа?"
   ]
  },
  {
   "cell_type": "code",
   "execution_count": 1,
   "metadata": {},
   "outputs": [],
   "source": [
    "# Импортируем необходимые библиотеки для анализа\n",
    "import pandas as pd\n",
    "from datetime import date, timedelta, datetime\n",
    "import numpy as np\n",
    "from scipy import stats\n",
    "from statsmodels.sandbox.stats.multicomp import multipletests\n",
    "import matplotlib.pyplot as plt"
   ]
  },
  {
   "cell_type": "code",
   "execution_count": 2,
   "metadata": {},
   "outputs": [],
   "source": [
    "# Загружаем данные для анализа в формате DataFrame\n",
    "data = pd.read_csv('test results.csv', parse_dates=['date'], low_memory=False)"
   ]
  },
  {
   "cell_type": "markdown",
   "metadata": {},
   "source": [
    "## Первичный визуальный анализ данных"
   ]
  },
  {
   "cell_type": "markdown",
   "metadata": {},
   "source": [
    "Для начала проведем первичный анализ имеющихся данных:"
   ]
  },
  {
   "cell_type": "code",
   "execution_count": 3,
   "metadata": {},
   "outputs": [
    {
     "data": {
      "text/html": [
       "<div>\n",
       "<style scoped>\n",
       "    .dataframe tbody tr th:only-of-type {\n",
       "        vertical-align: middle;\n",
       "    }\n",
       "\n",
       "    .dataframe tbody tr th {\n",
       "        vertical-align: top;\n",
       "    }\n",
       "\n",
       "    .dataframe thead th {\n",
       "        text-align: right;\n",
       "    }\n",
       "</style>\n",
       "<table border=\"1\" class=\"dataframe\">\n",
       "  <thead>\n",
       "    <tr style=\"text-align: right;\">\n",
       "      <th></th>\n",
       "      <th>date</th>\n",
       "      <th>deviceCategory</th>\n",
       "      <th>fullVisitorId</th>\n",
       "      <th>visitNumber</th>\n",
       "      <th>channelGrouping</th>\n",
       "      <th>event</th>\n",
       "      <th>action</th>\n",
       "    </tr>\n",
       "  </thead>\n",
       "  <tbody>\n",
       "    <tr>\n",
       "      <td>0</td>\n",
       "      <td>2017-09-28</td>\n",
       "      <td>mobile</td>\n",
       "      <td>1979366526314401785</td>\n",
       "      <td>2</td>\n",
       "      <td>SEO - Other</td>\n",
       "      <td>CartAdd</td>\n",
       "      <td>Click</td>\n",
       "    </tr>\n",
       "    <tr>\n",
       "      <td>1</td>\n",
       "      <td>2017-06-06</td>\n",
       "      <td>mobile</td>\n",
       "      <td>1492087041879793949</td>\n",
       "      <td>2</td>\n",
       "      <td>SEO - Other</td>\n",
       "      <td>CartAdd</td>\n",
       "      <td>Click</td>\n",
       "    </tr>\n",
       "    <tr>\n",
       "      <td>2</td>\n",
       "      <td>2017-01-14</td>\n",
       "      <td>mobile</td>\n",
       "      <td>9100021380756962686</td>\n",
       "      <td>1</td>\n",
       "      <td>SEO - Other</td>\n",
       "      <td>CartAdd</td>\n",
       "      <td>Click</td>\n",
       "    </tr>\n",
       "    <tr>\n",
       "      <td>3</td>\n",
       "      <td>2017-04-24</td>\n",
       "      <td>mobile</td>\n",
       "      <td>7257037062782464707</td>\n",
       "      <td>1</td>\n",
       "      <td>SEO - Other</td>\n",
       "      <td>CartAdd</td>\n",
       "      <td>Click</td>\n",
       "    </tr>\n",
       "    <tr>\n",
       "      <td>4</td>\n",
       "      <td>2017-03-13</td>\n",
       "      <td>mobile</td>\n",
       "      <td>3395570264884561101</td>\n",
       "      <td>52</td>\n",
       "      <td>Retargeting - Yandex</td>\n",
       "      <td>CartAdd</td>\n",
       "      <td>Click</td>\n",
       "    </tr>\n",
       "  </tbody>\n",
       "</table>\n",
       "</div>"
      ],
      "text/plain": [
       "        date deviceCategory        fullVisitorId  visitNumber  \\\n",
       "0 2017-09-28         mobile  1979366526314401785            2   \n",
       "1 2017-06-06         mobile  1492087041879793949            2   \n",
       "2 2017-01-14         mobile  9100021380756962686            1   \n",
       "3 2017-04-24         mobile  7257037062782464707            1   \n",
       "4 2017-03-13         mobile  3395570264884561101           52   \n",
       "\n",
       "        channelGrouping    event action  \n",
       "0           SEO - Other  CartAdd  Click  \n",
       "1           SEO - Other  CartAdd  Click  \n",
       "2           SEO - Other  CartAdd  Click  \n",
       "3           SEO - Other  CartAdd  Click  \n",
       "4  Retargeting - Yandex  CartAdd  Click  "
      ]
     },
     "execution_count": 3,
     "metadata": {},
     "output_type": "execute_result"
    }
   ],
   "source": [
    "# Первые пять строк\n",
    "data[:5]"
   ]
  },
  {
   "cell_type": "code",
   "execution_count": 4,
   "metadata": {},
   "outputs": [
    {
     "data": {
      "text/html": [
       "<div>\n",
       "<style scoped>\n",
       "    .dataframe tbody tr th:only-of-type {\n",
       "        vertical-align: middle;\n",
       "    }\n",
       "\n",
       "    .dataframe tbody tr th {\n",
       "        vertical-align: top;\n",
       "    }\n",
       "\n",
       "    .dataframe thead th {\n",
       "        text-align: right;\n",
       "    }\n",
       "</style>\n",
       "<table border=\"1\" class=\"dataframe\">\n",
       "  <thead>\n",
       "    <tr style=\"text-align: right;\">\n",
       "      <th></th>\n",
       "      <th>date</th>\n",
       "      <th>deviceCategory</th>\n",
       "      <th>fullVisitorId</th>\n",
       "      <th>visitNumber</th>\n",
       "      <th>channelGrouping</th>\n",
       "      <th>event</th>\n",
       "      <th>action</th>\n",
       "    </tr>\n",
       "  </thead>\n",
       "  <tbody>\n",
       "    <tr>\n",
       "      <td>7602638</td>\n",
       "      <td>2018-03-21</td>\n",
       "      <td>desktop</td>\n",
       "      <td>7782288507698299130</td>\n",
       "      <td>220</td>\n",
       "      <td>Context - Yandex Not Brand</td>\n",
       "      <td>Ecommerce</td>\n",
       "      <td>Checkout</td>\n",
       "    </tr>\n",
       "    <tr>\n",
       "      <td>7602639</td>\n",
       "      <td>2017-08-04</td>\n",
       "      <td>desktop</td>\n",
       "      <td>5513994499173912352</td>\n",
       "      <td>121</td>\n",
       "      <td>Context - Yandex Not Brand</td>\n",
       "      <td>Ecommerce</td>\n",
       "      <td>Checkout</td>\n",
       "    </tr>\n",
       "    <tr>\n",
       "      <td>7602640</td>\n",
       "      <td>2017-06-03</td>\n",
       "      <td>desktop</td>\n",
       "      <td>6992841766004254403</td>\n",
       "      <td>2</td>\n",
       "      <td>Context - Yandex Not Brand</td>\n",
       "      <td>Ecommerce</td>\n",
       "      <td>Checkout</td>\n",
       "    </tr>\n",
       "    <tr>\n",
       "      <td>7602641</td>\n",
       "      <td>2017-07-04</td>\n",
       "      <td>desktop</td>\n",
       "      <td>7494853280322250454</td>\n",
       "      <td>3</td>\n",
       "      <td>Context - Yandex Not Brand</td>\n",
       "      <td>Ecommerce</td>\n",
       "      <td>Checkout</td>\n",
       "    </tr>\n",
       "    <tr>\n",
       "      <td>7602642</td>\n",
       "      <td>2017-09-26</td>\n",
       "      <td>desktop</td>\n",
       "      <td>6794031371995013210</td>\n",
       "      <td>16</td>\n",
       "      <td>Context - Yandex Not Brand</td>\n",
       "      <td>Ecommerce</td>\n",
       "      <td>Checkout</td>\n",
       "    </tr>\n",
       "  </tbody>\n",
       "</table>\n",
       "</div>"
      ],
      "text/plain": [
       "              date deviceCategory        fullVisitorId  visitNumber  \\\n",
       "7602638 2018-03-21        desktop  7782288507698299130          220   \n",
       "7602639 2017-08-04        desktop  5513994499173912352          121   \n",
       "7602640 2017-06-03        desktop  6992841766004254403            2   \n",
       "7602641 2017-07-04        desktop  7494853280322250454            3   \n",
       "7602642 2017-09-26        desktop  6794031371995013210           16   \n",
       "\n",
       "                    channelGrouping      event    action  \n",
       "7602638  Context - Yandex Not Brand  Ecommerce  Checkout  \n",
       "7602639  Context - Yandex Not Brand  Ecommerce  Checkout  \n",
       "7602640  Context - Yandex Not Brand  Ecommerce  Checkout  \n",
       "7602641  Context - Yandex Not Brand  Ecommerce  Checkout  \n",
       "7602642  Context - Yandex Not Brand  Ecommerce  Checkout  "
      ]
     },
     "execution_count": 4,
     "metadata": {},
     "output_type": "execute_result"
    }
   ],
   "source": [
    "# Последние пять строк\n",
    "data[-5:]"
   ]
  },
  {
   "cell_type": "markdown",
   "metadata": {},
   "source": [
    "Не все данные необходимы для анализа, поэтому удалим лишние, а именно:\n",
    "* fullVisitorId\n",
    "* deviceCategory\n",
    "* visitNumber\n",
    "* channelGrouping"
   ]
  },
  {
   "cell_type": "code",
   "execution_count": 5,
   "metadata": {},
   "outputs": [],
   "source": [
    "# Удалим не нужные для анализа столбцы channelGrouping, visitNumber, deviceCategory, fullVisitorId\n",
    "data.drop('fullVisitorId', 1, inplace=True)\n",
    "data.drop('channelGrouping', 1, inplace=True)\n",
    "data.drop('visitNumber', 1, inplace=True)\n",
    "data.drop('deviceCategory', 1, inplace=True)"
   ]
  },
  {
   "cell_type": "markdown",
   "metadata": {},
   "source": [
    "Чтобы определить за какой период времени данные мы имеем, отсортируем их по дате"
   ]
  },
  {
   "cell_type": "code",
   "execution_count": 6,
   "metadata": {},
   "outputs": [],
   "source": [
    "# Отсортируем по дате\n",
    "data.sort_values(by='date', inplace=True)"
   ]
  },
  {
   "cell_type": "markdown",
   "metadata": {},
   "source": [
    "Снова посмотрим на первые и последние строчки"
   ]
  },
  {
   "cell_type": "code",
   "execution_count": 7,
   "metadata": {},
   "outputs": [
    {
     "data": {
      "text/html": [
       "<div>\n",
       "<style scoped>\n",
       "    .dataframe tbody tr th:only-of-type {\n",
       "        vertical-align: middle;\n",
       "    }\n",
       "\n",
       "    .dataframe tbody tr th {\n",
       "        vertical-align: top;\n",
       "    }\n",
       "\n",
       "    .dataframe thead th {\n",
       "        text-align: right;\n",
       "    }\n",
       "</style>\n",
       "<table border=\"1\" class=\"dataframe\">\n",
       "  <thead>\n",
       "    <tr style=\"text-align: right;\">\n",
       "      <th></th>\n",
       "      <th>date</th>\n",
       "      <th>event</th>\n",
       "      <th>action</th>\n",
       "    </tr>\n",
       "  </thead>\n",
       "  <tbody>\n",
       "    <tr>\n",
       "      <td>2661853</td>\n",
       "      <td>2017-01-01</td>\n",
       "      <td>landing</td>\n",
       "      <td>NaN</td>\n",
       "    </tr>\n",
       "    <tr>\n",
       "      <td>5082066</td>\n",
       "      <td>2017-01-01</td>\n",
       "      <td>CartView</td>\n",
       "      <td>Click</td>\n",
       "    </tr>\n",
       "    <tr>\n",
       "      <td>5082140</td>\n",
       "      <td>2017-01-01</td>\n",
       "      <td>CartView</td>\n",
       "      <td>Click</td>\n",
       "    </tr>\n",
       "    <tr>\n",
       "      <td>370753</td>\n",
       "      <td>2017-01-01</td>\n",
       "      <td>CartAdd</td>\n",
       "      <td>Click</td>\n",
       "    </tr>\n",
       "    <tr>\n",
       "      <td>7395395</td>\n",
       "      <td>2017-01-01</td>\n",
       "      <td>Ecommerce</td>\n",
       "      <td>Checkout</td>\n",
       "    </tr>\n",
       "  </tbody>\n",
       "</table>\n",
       "</div>"
      ],
      "text/plain": [
       "              date      event    action\n",
       "2661853 2017-01-01    landing       NaN\n",
       "5082066 2017-01-01   CartView     Click\n",
       "5082140 2017-01-01   CartView     Click\n",
       "370753  2017-01-01    CartAdd     Click\n",
       "7395395 2017-01-01  Ecommerce  Checkout"
      ]
     },
     "execution_count": 7,
     "metadata": {},
     "output_type": "execute_result"
    }
   ],
   "source": [
    "# Первые пять строк\n",
    "data[:5]"
   ]
  },
  {
   "cell_type": "code",
   "execution_count": 8,
   "metadata": {
    "scrolled": true
   },
   "outputs": [
    {
     "data": {
      "text/html": [
       "<div>\n",
       "<style scoped>\n",
       "    .dataframe tbody tr th:only-of-type {\n",
       "        vertical-align: middle;\n",
       "    }\n",
       "\n",
       "    .dataframe tbody tr th {\n",
       "        vertical-align: top;\n",
       "    }\n",
       "\n",
       "    .dataframe thead th {\n",
       "        text-align: right;\n",
       "    }\n",
       "</style>\n",
       "<table border=\"1\" class=\"dataframe\">\n",
       "  <thead>\n",
       "    <tr style=\"text-align: right;\">\n",
       "      <th></th>\n",
       "      <th>date</th>\n",
       "      <th>event</th>\n",
       "      <th>action</th>\n",
       "    </tr>\n",
       "  </thead>\n",
       "  <tbody>\n",
       "    <tr>\n",
       "      <td>5369019</td>\n",
       "      <td>2018-03-31</td>\n",
       "      <td>CartView</td>\n",
       "      <td>Click</td>\n",
       "    </tr>\n",
       "    <tr>\n",
       "      <td>2512926</td>\n",
       "      <td>2018-03-31</td>\n",
       "      <td>landing</td>\n",
       "      <td>NaN</td>\n",
       "    </tr>\n",
       "    <tr>\n",
       "      <td>5169810</td>\n",
       "      <td>2018-03-31</td>\n",
       "      <td>CartView</td>\n",
       "      <td>Click</td>\n",
       "    </tr>\n",
       "    <tr>\n",
       "      <td>5049550</td>\n",
       "      <td>2018-03-31</td>\n",
       "      <td>CartView</td>\n",
       "      <td>Click</td>\n",
       "    </tr>\n",
       "    <tr>\n",
       "      <td>5796779</td>\n",
       "      <td>2018-03-31</td>\n",
       "      <td>Ecommerce</td>\n",
       "      <td>Checkout</td>\n",
       "    </tr>\n",
       "  </tbody>\n",
       "</table>\n",
       "</div>"
      ],
      "text/plain": [
       "              date      event    action\n",
       "5369019 2018-03-31   CartView     Click\n",
       "2512926 2018-03-31    landing       NaN\n",
       "5169810 2018-03-31   CartView     Click\n",
       "5049550 2018-03-31   CartView     Click\n",
       "5796779 2018-03-31  Ecommerce  Checkout"
      ]
     },
     "execution_count": 8,
     "metadata": {},
     "output_type": "execute_result"
    }
   ],
   "source": [
    "# Последние пять строк\n",
    "data[-5:]"
   ]
  },
  {
   "cell_type": "markdown",
   "metadata": {},
   "source": [
    "Видим что данные представлены за период с 1 декабря 2017 годя по 31 марта 2018 года включительно."
   ]
  },
  {
   "cell_type": "markdown",
   "metadata": {},
   "source": [
    "Нас интересуют значения в категория \"event\" и \"action\". Поэтому посмотрим на количественный состав значений в этих категориях"
   ]
  },
  {
   "cell_type": "code",
   "execution_count": 9,
   "metadata": {},
   "outputs": [],
   "source": [
    "events = data['event'].value_counts()\n",
    "actions = data['action'].value_counts()"
   ]
  },
  {
   "cell_type": "code",
   "execution_count": 10,
   "metadata": {
    "scrolled": true
   },
   "outputs": [
    {
     "data": {
      "image/png": "[encoded data removed]",
      "text/plain": [
       "<Figure size 432x288 with 1 Axes>"
      ]
     },
     "metadata": {
      "needs_background": "light"
     },
     "output_type": "display_data"
    }
   ],
   "source": [
    "bar_ev = plt.figure()\n",
    "bar_ev.suptitle('Events', fontsize=20)\n",
    "ax_bar_ev = bar_ev.add_axes([0,0,1,1])\n",
    "ax_bar_ev.bar(events.index, events.values)\n",
    "plt.show()"
   ]
  },
  {
   "cell_type": "code",
   "execution_count": 11,
   "metadata": {
    "scrolled": true
   },
   "outputs": [
    {
     "data": {
      "image/png": "[encoded data removed]",
      "text/plain": [
       "<Figure size 432x288 with 1 Axes>"
      ]
     },
     "metadata": {},
     "output_type": "display_data"
    }
   ],
   "source": [
    "pie_ev, ax_pie_ev = plt.subplots()\n",
    "pie_ev.suptitle('Events', fontsize=20)\n",
    "ax_pie_ev.pie(events.values, explode=(0, 0.1, 0, 0), labels=events.index,\n",
    "        autopct='%1.0f%%', shadow=True, startangle=90)\n",
    "ax_pie_ev.axis('Equal')\n",
    "\n",
    "plt.show()"
   ]
  },
  {
   "cell_type": "code",
   "execution_count": 12,
   "metadata": {
    "scrolled": true
   },
   "outputs": [
    {
     "data": {
      "image/png": "[encoded data removed]",
      "text/plain": [
       "<Figure size 432x288 with 1 Axes>"
      ]
     },
     "metadata": {
      "needs_background": "light"
     },
     "output_type": "display_data"
    }
   ],
   "source": [
    "bar_act = plt.figure()\n",
    "bar_act.suptitle('Actions', fontsize=20)\n",
    "ax_bar_act = bar_act.add_axes([0,0,1,1])\n",
    "ax_bar_act.bar(actions.index, actions.values)\n",
    "plt.show()"
   ]
  },
  {
   "cell_type": "code",
   "execution_count": 13,
   "metadata": {
    "scrolled": false
   },
   "outputs": [
    {
     "data": {
      "image/png": "[encoded data removed]",
      "text/plain": [
       "<Figure size 432x288 with 1 Axes>"
      ]
     },
     "metadata": {},
     "output_type": "display_data"
    }
   ],
   "source": [
    "pie_act, ax_pie_act = plt.subplots()\n",
    "pie_act.suptitle('Actions', fontsize=20)\n",
    "ax_pie_act.pie(events.values, explode=(0, 0.1, 0, 0), labels=events.index,\n",
    "        autopct='%1.0f%%', shadow=True, startangle=90)\n",
    "ax_pie_act.axis('Equal')\n",
    "\n",
    "plt.show()"
   ]
  },
  {
   "cell_type": "markdown",
   "metadata": {},
   "source": [
    "#### Видим следущие значения в категориях:\n",
    "<b>События:</b>\n",
    "* landing - переход на сайт\n",
    "* cartAdd - добавить в корзину\n",
    "* cartView - переход в корзину\n",
    "\n",
    "<b>Действия:</b>\n",
    "* click - действие пользователя\n",
    "* checkout - оформление заказа\n",
    "* purchase_order_done - заказ на покупку"
   ]
  },
  {
   "cell_type": "markdown",
   "metadata": {},
   "source": [
    "Конверсию будем попределять как соотношение количества заказов к числу переходов на сайт в процентах т.е.\n",
    "\n",
    "<b>(\"purchase_order_done\"/\"landing\")*100 - конверсия</b>"
   ]
  },
  {
   "cell_type": "markdown",
   "metadata": {},
   "source": [
    "## Новые данные для анализа"
   ]
  },
  {
   "cell_type": "markdown",
   "metadata": {},
   "source": [
    "<b>Создадим следующие данные для анализа:</b>\n",
    "* Словарь по дням, где для каждого дня запишем количество каждого из событий\n",
    "* Словарь по дням, где для каждого дня запишем количество каждого из действий\n",
    "* Словарь по дням, где для каждого дня запишем значение конверсии\n",
    "\n",
    "Все словари для более удобной работы представим в формате DataFrame"
   ]
  },
  {
   "cell_type": "code",
   "execution_count": 15,
   "metadata": {},
   "outputs": [],
   "source": [
    "# Частотный словарь по дням для действий\n",
    "actions_dict = {}\n",
    "for index in range(len(data)):\n",
    "    if data.loc[index, 'date'] not in actions_dict:\n",
    "        actions_dict[data.loc[index, 'date']] = [0, 0, 0]\n",
    "    if data.loc[index, 'action'] == 'Click':\n",
    "        actions_dict[data.loc[index, 'date']][0] += 1\n",
    "    elif data.loc[index, 'action'] == 'Checkout':\n",
    "        actions_dict[data.loc[index, 'date']][1] += 1\n",
    "    elif data.loc[index, 'action'] == 'purchase_order_done':\n",
    "        actions_dict[data.loc[index, 'date']][2] += 1"
   ]
  },
  {
   "cell_type": "code",
   "execution_count": 16,
   "metadata": {},
   "outputs": [],
   "source": [
    "# Преобразуем словарь в DataFrame с удобным обозначение столбцов\n",
    "actions_df = pd.DataFrame.from_dict(actions_dict, orient='index').reset_index()\n",
    "actions_df.rename(columns={'index': 'date', 0: 'click', 1: 'checkout', 2: 'done'}, inplace=True)"
   ]
  },
  {
   "cell_type": "code",
   "execution_count": 16,
   "metadata": {},
   "outputs": [
    {
     "data": {
      "text/html": [
       "<div>\n",
       "<style scoped>\n",
       "    .dataframe tbody tr th:only-of-type {\n",
       "        vertical-align: middle;\n",
       "    }\n",
       "\n",
       "    .dataframe tbody tr th {\n",
       "        vertical-align: top;\n",
       "    }\n",
       "\n",
       "    .dataframe thead th {\n",
       "        text-align: right;\n",
       "    }\n",
       "</style>\n",
       "<table border=\"1\" class=\"dataframe\">\n",
       "  <thead>\n",
       "    <tr style=\"text-align: right;\">\n",
       "      <th>action</th>\n",
       "      <th>Checkout</th>\n",
       "      <th>Click</th>\n",
       "      <th>purchase_order_done</th>\n",
       "    </tr>\n",
       "    <tr>\n",
       "      <th>date</th>\n",
       "      <th></th>\n",
       "      <th></th>\n",
       "      <th></th>\n",
       "    </tr>\n",
       "  </thead>\n",
       "  <tbody>\n",
       "    <tr>\n",
       "      <td>2017-01-01</td>\n",
       "      <td>1332</td>\n",
       "      <td>1629</td>\n",
       "      <td>47</td>\n",
       "    </tr>\n",
       "    <tr>\n",
       "      <td>2017-01-02</td>\n",
       "      <td>1717</td>\n",
       "      <td>2798</td>\n",
       "      <td>59</td>\n",
       "    </tr>\n",
       "  </tbody>\n",
       "</table>\n",
       "</div>"
      ],
      "text/plain": [
       "action      Checkout  Click  purchase_order_done\n",
       "date                                            \n",
       "2017-01-01      1332   1629                   47\n",
       "2017-01-02      1717   2798                   59"
      ]
     },
     "execution_count": 16,
     "metadata": {},
     "output_type": "execute_result"
    }
   ],
   "source": [
    "actions_df[:2]"
   ]
  },
  {
   "cell_type": "code",
   "execution_count": 17,
   "metadata": {},
   "outputs": [],
   "source": [
    "data['action'] = data['action'].replace({pd.np.nan: 'No_action'})"
   ]
  },
  {
   "cell_type": "code",
   "execution_count": 18,
   "metadata": {},
   "outputs": [
    {
     "data": {
      "text/plain": [
       "2661853    No_action\n",
       "5082066        Click\n",
       "5082140        Click\n",
       "370753         Click\n",
       "7395395     Checkout\n",
       "             ...    \n",
       "5369019        Click\n",
       "2512926    No_action\n",
       "5169810        Click\n",
       "5049550        Click\n",
       "5796779     Checkout\n",
       "Name: action, Length: 7602643, dtype: object"
      ]
     },
     "execution_count": 18,
     "metadata": {},
     "output_type": "execute_result"
    }
   ],
   "source": [
    "data['action']"
   ]
  },
  {
   "cell_type": "code",
   "execution_count": 19,
   "metadata": {},
   "outputs": [],
   "source": [
    "actions_df = data.pivot_table(index='date', columns='action', aggfunc='count', fill_value=0)\n",
    "actions_df = actions_df['event']"
   ]
  },
  {
   "cell_type": "code",
   "execution_count": 20,
   "metadata": {},
   "outputs": [
    {
     "data": {
      "text/html": [
       "<div>\n",
       "<style scoped>\n",
       "    .dataframe tbody tr th:only-of-type {\n",
       "        vertical-align: middle;\n",
       "    }\n",
       "\n",
       "    .dataframe tbody tr th {\n",
       "        vertical-align: top;\n",
       "    }\n",
       "\n",
       "    .dataframe thead th {\n",
       "        text-align: right;\n",
       "    }\n",
       "</style>\n",
       "<table border=\"1\" class=\"dataframe\">\n",
       "  <thead>\n",
       "    <tr style=\"text-align: right;\">\n",
       "      <th>action</th>\n",
       "      <th>Checkout</th>\n",
       "      <th>Click</th>\n",
       "      <th>No_action</th>\n",
       "      <th>purchase_order_done</th>\n",
       "    </tr>\n",
       "    <tr>\n",
       "      <th>date</th>\n",
       "      <th></th>\n",
       "      <th></th>\n",
       "      <th></th>\n",
       "      <th></th>\n",
       "    </tr>\n",
       "  </thead>\n",
       "  <tbody>\n",
       "    <tr>\n",
       "      <td>2017-01-01</td>\n",
       "      <td>1332</td>\n",
       "      <td>1629</td>\n",
       "      <td>3686</td>\n",
       "      <td>47</td>\n",
       "    </tr>\n",
       "    <tr>\n",
       "      <td>2017-01-02</td>\n",
       "      <td>1717</td>\n",
       "      <td>2798</td>\n",
       "      <td>4470</td>\n",
       "      <td>59</td>\n",
       "    </tr>\n",
       "  </tbody>\n",
       "</table>\n",
       "</div>"
      ],
      "text/plain": [
       "action      Checkout  Click  No_action  purchase_order_done\n",
       "date                                                       \n",
       "2017-01-01      1332   1629       3686                   47\n",
       "2017-01-02      1717   2798       4470                   59"
      ]
     },
     "execution_count": 20,
     "metadata": {},
     "output_type": "execute_result"
    }
   ],
   "source": [
    "actions_df[:2]"
   ]
  },
  {
   "cell_type": "code",
   "execution_count": 26,
   "metadata": {},
   "outputs": [
    {
     "data": {
      "text/plain": [
       "date\n",
       "2017-01-01     6694\n",
       "2017-01-02     9044\n",
       "2017-01-03     9940\n",
       "2017-01-04    11346\n",
       "2017-01-05    11573\n",
       "              ...  \n",
       "2018-03-27    19565\n",
       "2018-03-28    19562\n",
       "2018-03-29    21242\n",
       "2018-03-30    19233\n",
       "2018-03-31    17685\n",
       "Name: event, Length: 455, dtype: int64"
      ]
     },
     "execution_count": 26,
     "metadata": {},
     "output_type": "execute_result"
    }
   ],
   "source": [
    "data.groupby(['date'])['event'].aggregate('count')"
   ]
  },
  {
   "cell_type": "code",
   "execution_count": 131,
   "metadata": {},
   "outputs": [],
   "source": [
    "# Частотный словарь по дням для событий\n",
    "events_dict = {}\n",
    "for index in range(len(data)):\n",
    "    if data.loc[index, 'date'] not in events_dict:\n",
    "        events_dict[data.loc[index, 'date']] = [0, 0, 0, 0]\n",
    "    if data.loc[index, 'event'] == 'landing':\n",
    "        events_dict[data.loc[index, 'date']][0] += 1\n",
    "    elif data.loc[index, 'event'] == 'Ecommerce':\n",
    "        events_dict[data.loc[index, 'date']][1] += 1\n",
    "    elif data.loc[index, 'event'] == 'CartAdd':\n",
    "        events_dict[data.loc[index, 'date']][2] += 1\n",
    "    elif data.loc[index, 'event'] == 'CartView':\n",
    "        events_dict[data.loc[index, 'date']][3] += 1"
   ]
  },
  {
   "cell_type": "code",
   "execution_count": 132,
   "metadata": {},
   "outputs": [
    {
     "data": {
      "text/plain": [
       "{Timestamp('2017-09-28 00:00:00'): [8555, 4523, 2747, 2386],\n",
       " Timestamp('2017-06-06 00:00:00'): [8105, 2727, 2342, 2204],\n",
       " Timestamp('2017-01-14 00:00:00'): [6922, 2623, 2070, 1650],\n",
       " Timestamp('2017-04-24 00:00:00'): [8059, 1887, 2434, 2451],\n",
       " Timestamp('2017-03-13 00:00:00'): [8145, 3779, 2196, 2622],\n",
       " Timestamp('2017-09-15 00:00:00'): [7694, 4085, 2574, 2361],\n",
       " Timestamp('2017-01-12 00:00:00'): [7863, 3550, 2581, 2037],\n",
       " Timestamp('2018-02-15 00:00:00'): [10388, 5917, 3383, 3434],\n",
       " Timestamp('2017-01-26 00:00:00'): [7910, 4075, 2382, 2604],\n",
       " Timestamp('2017-10-17 00:00:00'): [9500, 4772, 2852, 2678],\n",
       " Timestamp('2017-09-14 00:00:00'): [8282, 4628, 2638, 2604],\n",
       " Timestamp('2018-01-22 00:00:00'): [9704, 5035, 2965, 2856],\n",
       " Timestamp('2017-10-18 00:00:00'): [8808, 4312, 2756, 2363],\n",
       " Timestamp('2018-02-03 00:00:00'): [8668, 4015, 2653, 2266],\n",
       " Timestamp('2017-10-11 00:00:00'): [9375, 4878, 3208, 2773],\n",
       " Timestamp('2017-06-01 00:00:00'): [7296, 2566, 2206, 2082],\n",
       " Timestamp('2017-09-06 00:00:00'): [8515, 4463, 2749, 2710],\n",
       " Timestamp('2018-01-07 00:00:00'): [7521, 2827, 1823, 1630],\n",
       " Timestamp('2017-03-06 00:00:00'): [8636, 4565, 2412, 2959],\n",
       " Timestamp('2018-01-26 00:00:00'): [9215, 4399, 3183, 2444],\n",
       " Timestamp('2017-10-22 00:00:00'): [8055, 3930, 2374, 2409],\n",
       " Timestamp('2017-04-21 00:00:00'): [7445, 1706, 2106, 2197],\n",
       " Timestamp('2017-10-21 00:00:00'): [7258, 3257, 2073, 1881],\n",
       " Timestamp('2017-03-07 00:00:00'): [7454, 3560, 2157, 2420],\n",
       " Timestamp('2017-09-24 00:00:00'): [6876, 3513, 2330, 1905],\n",
       " Timestamp('2017-04-05 00:00:00'): [7729, 3866, 2162, 2293],\n",
       " Timestamp('2017-07-17 00:00:00'): [7310, 2925, 1780, 1910],\n",
       " Timestamp('2018-01-28 00:00:00'): [8928, 4819, 3195, 2883],\n",
       " Timestamp('2017-04-01 00:00:00'): [6766, 3029, 1692, 1960],\n",
       " Timestamp('2017-12-04 00:00:00'): [11712, 6307, 3942, 3607],\n",
       " Timestamp('2017-06-19 00:00:00'): [8247, 2798, 2501, 2125],\n",
       " Timestamp('2018-03-27 00:00:00'): [9320, 4376, 3167, 2702],\n",
       " Timestamp('2017-10-25 00:00:00'): [8485, 4044, 2626, 2373],\n",
       " Timestamp('2018-01-05 00:00:00'): [7608, 2787, 1824, 1654],\n",
       " Timestamp('2017-08-14 00:00:00'): [7253, 2950, 1861, 1916],\n",
       " Timestamp('2017-02-02 00:00:00'): [7959, 4053, 2660, 2758],\n",
       " Timestamp('2017-05-09 00:00:00'): [5639, 1156, 1585, 1602],\n",
       " Timestamp('2017-04-06 00:00:00'): [7231, 3482, 1999, 2146],\n",
       " Timestamp('2018-03-05 00:00:00'): [11651, 7027, 4385, 3956],\n",
       " Timestamp('2017-10-31 00:00:00'): [8908, 4599, 2605, 2604],\n",
       " Timestamp('2017-11-26 00:00:00'): [10019, 5048, 3924, 3291],\n",
       " Timestamp('2017-03-19 00:00:00'): [7046, 3203, 2172, 2114],\n",
       " Timestamp('2018-01-11 00:00:00'): [9710, 4417, 2549, 2576],\n",
       " Timestamp('2017-10-06 00:00:00'): [8257, 3722, 2668, 2088],\n",
       " Timestamp('2018-03-09 00:00:00'): [8888, 4254, 2901, 2703],\n",
       " Timestamp('2017-04-30 00:00:00'): [5362, 951, 1470, 1453],\n",
       " Timestamp('2017-02-24 00:00:00'): [7208, 2788, 1823, 2000],\n",
       " Timestamp('2017-07-19 00:00:00'): [7147, 3188, 2064, 1996],\n",
       " Timestamp('2017-09-11 00:00:00'): [8682, 4285, 2544, 2466],\n",
       " Timestamp('2017-11-25 00:00:00'): [9562, 5469, 4075, 3254],\n",
       " Timestamp('2017-11-30 00:00:00'): [10608, 5607, 3983, 3540],\n",
       " Timestamp('2017-01-28 00:00:00'): [6538, 2921, 1866, 2083],\n",
       " Timestamp('2017-04-18 00:00:00'): [7757, 1896, 2732, 2691],\n",
       " Timestamp('2017-11-03 00:00:00'): [8100, 3850, 2341, 2078],\n",
       " Timestamp('2018-02-28 00:00:00'): [11342, 6662, 4384, 3618],\n",
       " Timestamp('2017-03-17 00:00:00'): [7280, 3575, 2114, 2286],\n",
       " Timestamp('2017-02-09 00:00:00'): [8070, 4165, 2462, 2923],\n",
       " Timestamp('2017-01-19 00:00:00'): [7570, 3736, 2211, 2137],\n",
       " Timestamp('2017-09-19 00:00:00'): [8625, 4566, 2784, 2509],\n",
       " Timestamp('2017-05-15 00:00:00'): [7529, 1897, 2230, 2236],\n",
       " Timestamp('2018-02-06 00:00:00'): [10223, 5892, 3692, 3159],\n",
       " Timestamp('2017-11-28 00:00:00'): [11995, 5619, 4144, 3455],\n",
       " Timestamp('2018-01-24 00:00:00'): [9537, 5150, 3226, 2765],\n",
       " Timestamp('2018-02-10 00:00:00'): [8460, 4288, 3079, 2263],\n",
       " Timestamp('2018-01-20 00:00:00'): [7295, 3652, 2285, 2062],\n",
       " Timestamp('2017-01-27 00:00:00'): [7301, 3459, 1949, 2314],\n",
       " Timestamp('2017-11-16 00:00:00'): [9596, 5086, 3280, 2946],\n",
       " Timestamp('2017-02-22 00:00:00'): [8234, 3961, 2273, 2600],\n",
       " Timestamp('2017-05-13 00:00:00'): [5949, 1289, 1816, 1791],\n",
       " Timestamp('2017-04-19 00:00:00'): [7795, 1863, 2245, 2571],\n",
       " Timestamp('2017-12-02 00:00:00'): [8876, 4370, 3136, 2678],\n",
       " Timestamp('2017-03-26 00:00:00'): [7318, 2973, 1990, 2010],\n",
       " Timestamp('2017-04-03 00:00:00'): [8253, 3623, 2156, 2345],\n",
       " Timestamp('2018-01-12 00:00:00'): [9121, 4429, 2670, 2549],\n",
       " Timestamp('2017-01-24 00:00:00'): [8195, 3863, 2371, 2749],\n",
       " Timestamp('2018-02-07 00:00:00'): [10047, 5613, 3682, 2987],\n",
       " Timestamp('2017-04-22 00:00:00'): [6550, 1524, 1935, 1894],\n",
       " Timestamp('2017-06-27 00:00:00'): [7267, 2998, 1882, 1878],\n",
       " Timestamp('2017-10-15 00:00:00'): [8185, 4119, 2842, 2194],\n",
       " Timestamp('2017-11-22 00:00:00'): [10695, 5572, 3876, 3281],\n",
       " Timestamp('2017-01-16 00:00:00'): [8324, 3691, 2385, 2087],\n",
       " Timestamp('2018-02-08 00:00:00'): [9547, 5999, 3545, 2974],\n",
       " Timestamp('2017-02-15 00:00:00'): [7891, 4100, 2600, 2760],\n",
       " Timestamp('2017-01-30 00:00:00'): [9470, 4944, 2841, 3391],\n",
       " Timestamp('2017-02-13 00:00:00'): [8736, 4660, 2625, 3147],\n",
       " Timestamp('2017-02-10 00:00:00'): [7452, 3854, 2217, 2527],\n",
       " Timestamp('2017-05-21 00:00:00'): [6741, 1358, 1733, 1715],\n",
       " Timestamp('2017-12-11 00:00:00'): [12806, 8312, 4651, 4344],\n",
       " Timestamp('2017-03-01 00:00:00'): [8405, 4078, 2510, 2705],\n",
       " Timestamp('2017-08-08 00:00:00'): [7422, 3214, 2225, 2043],\n",
       " Timestamp('2018-03-26 00:00:00'): [9829, 5071, 3322, 3155],\n",
       " Timestamp('2017-08-26 00:00:00'): [5826, 2438, 1514, 1589],\n",
       " Timestamp('2017-01-09 00:00:00'): [8443, 3186, 2183, 1939],\n",
       " Timestamp('2018-03-08 00:00:00'): [8263, 3489, 2322, 2180],\n",
       " Timestamp('2017-04-12 00:00:00'): [7315, 3603, 2016, 2458],\n",
       " Timestamp('2017-02-21 00:00:00'): [9191, 4521, 2915, 3040],\n",
       " Timestamp('2018-02-16 00:00:00'): [10036, 5102, 3072, 2885],\n",
       " Timestamp('2017-10-27 00:00:00'): [7725, 3769, 2327, 2201],\n",
       " Timestamp('2018-01-08 00:00:00'): [8674, 3752, 2538, 2105],\n",
       " Timestamp('2018-03-20 00:00:00'): [10733, 5163, 3575, 2937],\n",
       " Timestamp('2017-12-19 00:00:00'): [10185, 6777, 4048, 3757],\n",
       " Timestamp('2017-09-21 00:00:00'): [8128, 4817, 2952, 2611],\n",
       " Timestamp('2017-05-29 00:00:00'): [7434, 2765, 2346, 1954],\n",
       " Timestamp('2017-02-25 00:00:00'): [7238, 2685, 1782, 1913],\n",
       " Timestamp('2017-07-23 00:00:00'): [5758, 2404, 1453, 1522],\n",
       " Timestamp('2017-10-23 00:00:00'): [9228, 4798, 2984, 2642],\n",
       " Timestamp('2017-08-31 00:00:00'): [7303, 3983, 2271, 2128],\n",
       " Timestamp('2017-03-29 00:00:00'): [7917, 3460, 2119, 2205],\n",
       " Timestamp('2017-06-21 00:00:00'): [8113, 2971, 2239, 1993],\n",
       " Timestamp('2018-03-16 00:00:00'): [9619, 4584, 3339, 2758],\n",
       " Timestamp('2017-11-19 00:00:00'): [9158, 4252, 2605, 2431],\n",
       " Timestamp('2017-08-30 00:00:00'): [7749, 4649, 2560, 2489],\n",
       " Timestamp('2017-12-20 00:00:00'): [9863, 6814, 4021, 3779],\n",
       " Timestamp('2017-04-11 00:00:00'): [7479, 3868, 2569, 2562],\n",
       " Timestamp('2017-01-07 00:00:00'): [6414, 2252, 1740, 1462],\n",
       " Timestamp('2017-05-08 00:00:00'): [5637, 1167, 1528, 1583],\n",
       " Timestamp('2018-02-12 00:00:00'): [10592, 5985, 3729, 3227],\n",
       " Timestamp('2017-07-05 00:00:00'): [7481, 3128, 1996, 1976],\n",
       " Timestamp('2017-08-23 00:00:00'): [7715, 3751, 2464, 2363],\n",
       " Timestamp('2017-10-12 00:00:00'): [8812, 4440, 2563, 2470],\n",
       " Timestamp('2017-11-09 00:00:00'): [9040, 4592, 2816, 2613],\n",
       " Timestamp('2017-11-18 00:00:00'): [8061, 3764, 2570, 2105],\n",
       " Timestamp('2017-05-31 00:00:00'): [7361, 2889, 2246, 2078],\n",
       " Timestamp('2017-07-15 00:00:00'): [5611, 2416, 1426, 1504],\n",
       " Timestamp('2017-07-13 00:00:00'): [7139, 2768, 1579, 1746],\n",
       " Timestamp('2017-12-05 00:00:00'): [12161, 6249, 3896, 3577],\n",
       " Timestamp('2017-11-13 00:00:00'): [9648, 5003, 2974, 2955],\n",
       " Timestamp('2017-09-04 00:00:00'): [8317, 4180, 2303, 2342],\n",
       " Timestamp('2017-11-06 00:00:00'): [8210, 3912, 2504, 2212],\n",
       " Timestamp('2017-06-26 00:00:00'): [7345, 3420, 2298, 2099],\n",
       " Timestamp('2017-01-29 00:00:00'): [7458, 3472, 2327, 2591],\n",
       " Timestamp('2018-03-18 00:00:00'): [8979, 4232, 2800, 2583],\n",
       " Timestamp('2017-12-14 00:00:00'): [12299, 7085, 3872, 3797],\n",
       " Timestamp('2018-01-16 00:00:00'): [9006, 4500, 2597, 2405],\n",
       " Timestamp('2017-11-20 00:00:00'): [10757, 4993, 2837, 2825],\n",
       " Timestamp('2017-01-08 00:00:00'): [7192, 2690, 1836, 1613],\n",
       " Timestamp('2018-02-27 00:00:00'): [11676, 6082, 3961, 3565],\n",
       " Timestamp('2017-06-02 00:00:00'): [7311, 2408, 1832, 1801],\n",
       " Timestamp('2018-03-15 00:00:00'): [10223, 5500, 3810, 3245],\n",
       " Timestamp('2017-06-13 00:00:00'): [8395, 2766, 2229, 2120],\n",
       " Timestamp('2017-09-30 00:00:00'): [6882, 3543, 2455, 2020],\n",
       " Timestamp('2018-02-11 00:00:00'): [9212, 4709, 2914, 2628],\n",
       " Timestamp('2018-01-25 00:00:00'): [9254, 5293, 3052, 2784],\n",
       " Timestamp('2017-12-09 00:00:00'): [9802, 5532, 3379, 3092],\n",
       " Timestamp('2017-05-25 00:00:00'): [7188, 2600, 2083, 1869],\n",
       " Timestamp('2018-03-25 00:00:00'): [9068, 4406, 3297, 2758],\n",
       " Timestamp('2018-03-22 00:00:00'): [10143, 4619, 3275, 2940],\n",
       " Timestamp('2018-01-10 00:00:00'): [10142, 5157, 3084, 2941],\n",
       " Timestamp('2017-05-19 00:00:00'): [6392, 1351, 2081, 1841],\n",
       " Timestamp('2017-09-18 00:00:00'): [8672, 4689, 2799, 2569],\n",
       " Timestamp('2017-07-30 00:00:00'): [5523, 2545, 1742, 1639],\n",
       " Timestamp('2017-07-20 00:00:00'): [6919, 3085, 2100, 1818],\n",
       " Timestamp('2017-05-23 00:00:00'): [7634, 2751, 1985, 1941],\n",
       " Timestamp('2017-03-21 00:00:00'): [7754, 3610, 2091, 2337],\n",
       " Timestamp('2017-07-01 00:00:00'): [5482, 2245, 1505, 1318],\n",
       " Timestamp('2017-11-05 00:00:00'): [7547, 3276, 2216, 1998],\n",
       " Timestamp('2017-08-19 00:00:00'): [5288, 2411, 1433, 1432],\n",
       " Timestamp('2017-12-16 00:00:00'): [8639, 5752, 3310, 3293],\n",
       " Timestamp('2017-09-16 00:00:00'): [6336, 3615, 2095, 1940],\n",
       " Timestamp('2017-07-10 00:00:00'): [7336, 3505, 2367, 2209],\n",
       " Timestamp('2017-08-28 00:00:00'): [7994, 4008, 2695, 2401],\n",
       " Timestamp('2017-03-05 00:00:00'): [8162, 3961, 2016, 2637],\n",
       " Timestamp('2017-10-05 00:00:00'): [8852, 4547, 3187, 2604],\n",
       " Timestamp('2017-03-28 00:00:00'): [8322, 3955, 2683, 2568],\n",
       " Timestamp('2017-10-13 00:00:00'): [8332, 4208, 2483, 2587],\n",
       " Timestamp('2017-10-01 00:00:00'): [7990, 3766, 2332, 2023],\n",
       " Timestamp('2017-11-08 00:00:00'): [9099, 4476, 2996, 2552],\n",
       " Timestamp('2017-04-13 00:00:00'): [7125, 3514, 1922, 2363],\n",
       " Timestamp('2018-02-25 00:00:00'): [9530, 4583, 2784, 2478],\n",
       " Timestamp('2018-02-04 00:00:00'): [9269, 4538, 2886, 2545],\n",
       " Timestamp('2017-02-08 00:00:00'): [8529, 4307, 2344, 2928],\n",
       " Timestamp('2018-01-06 00:00:00'): [7471, 2862, 2009, 1498],\n",
       " Timestamp('2017-09-08 00:00:00'): [7468, 3814, 2264, 2187],\n",
       " Timestamp('2018-03-11 00:00:00'): [9384, 4224, 3160, 2611],\n",
       " Timestamp('2017-09-23 00:00:00'): [6180, 3343, 2174, 1858],\n",
       " Timestamp('2017-05-16 00:00:00'): [7906, 1834, 2460, 2552],\n",
       " Timestamp('2017-05-04 00:00:00'): [6836, 1727, 1863, 2057],\n",
       " Timestamp('2018-03-02 00:00:00'): [10360, 5032, 4026, 2961],\n",
       " Timestamp('2017-07-21 00:00:00'): [6410, 2692, 1626, 1721],\n",
       " Timestamp('2018-02-13 00:00:00'): [10344, 5766, 3343, 3114],\n",
       " Timestamp('2017-04-14 00:00:00'): [6606, 3163, 1927, 2086],\n",
       " Timestamp('2018-03-03 00:00:00'): [9728, 4947, 3500, 3006],\n",
       " Timestamp('2017-10-26 00:00:00'): [8341, 4619, 2948, 2529],\n",
       " Timestamp('2017-09-25 00:00:00'): [8485, 4251, 2225, 2255],\n",
       " Timestamp('2017-11-24 00:00:00'): [12577, 6153, 4292, 3816],\n",
       " Timestamp('2018-02-18 00:00:00'): [9062, 4993, 2763, 2773],\n",
       " Timestamp('2017-04-08 00:00:00'): [6238, 2832, 1716, 2006],\n",
       " Timestamp('2018-02-26 00:00:00'): [11506, 6037, 4028, 3370],\n",
       " Timestamp('2017-07-09 00:00:00'): [6200, 2238, 1637, 1458],\n",
       " Timestamp('2017-12-29 00:00:00'): [8212, 4025, 2130, 2052],\n",
       " Timestamp('2017-05-26 00:00:00'): [6790, 2729, 1860, 1848],\n",
       " Timestamp('2017-06-07 00:00:00'): [7492, 2692, 1994, 2020],\n",
       " Timestamp('2017-09-27 00:00:00'): [8439, 4559, 2817, 2466],\n",
       " Timestamp('2017-07-06 00:00:00'): [7203, 2913, 2084, 1929],\n",
       " Timestamp('2017-03-18 00:00:00'): [6523, 2967, 1802, 1986],\n",
       " Timestamp('2017-11-21 00:00:00'): [11705, 6306, 4472, 3812],\n",
       " Timestamp('2018-02-02 00:00:00'): [9736, 4812, 2829, 2608],\n",
       " Timestamp('2017-06-17 00:00:00'): [6078, 1776, 1975, 1456],\n",
       " Timestamp('2017-01-13 00:00:00'): [6941, 2950, 1975, 1748],\n",
       " Timestamp('2018-03-30 00:00:00'): [9023, 4331, 3184, 2695],\n",
       " Timestamp('2018-01-15 00:00:00'): [9855, 4882, 3236, 2724],\n",
       " Timestamp('2017-02-16 00:00:00'): [8389, 3831, 2508, 2710],\n",
       " Timestamp('2018-03-01 00:00:00'): [10108, 6117, 4406, 3449],\n",
       " Timestamp('2017-02-14 00:00:00'): [8163, 3899, 2393, 2732],\n",
       " Timestamp('2017-09-09 00:00:00'): [6289, 3486, 2256, 1974],\n",
       " Timestamp('2017-12-12 00:00:00'): [12542, 7344, 4115, 3889],\n",
       " Timestamp('2018-03-06 00:00:00'): [11136, 6045, 3609, 3472],\n",
       " Timestamp('2017-01-25 00:00:00'): [7892, 3731, 2148, 2487],\n",
       " Timestamp('2017-12-01 00:00:00'): [10238, 4610, 3313, 2983],\n",
       " Timestamp('2017-12-07 00:00:00'): [11219, 6747, 3980, 3574],\n",
       " Timestamp('2018-02-23 00:00:00'): [8394, 4193, 2490, 2498],\n",
       " Timestamp('2017-05-27 00:00:00'): [5868, 2334, 1615, 1625],\n",
       " Timestamp('2017-06-03 00:00:00'): [6205, 2258, 1908, 1806],\n",
       " Timestamp('2017-10-28 00:00:00'): [6841, 3363, 2145, 2068],\n",
       " Timestamp('2017-05-05 00:00:00'): [6319, 1290, 1920, 2062],\n",
       " Timestamp('2017-03-04 00:00:00'): [7302, 3728, 2393, 2447],\n",
       " Timestamp('2017-11-07 00:00:00'): [9472, 4972, 2783, 2751],\n",
       " Timestamp('2017-02-17 00:00:00'): [8031, 3718, 2175, 2489],\n",
       " Timestamp('2017-05-03 00:00:00'): [7140, 1788, 2042, 2167],\n",
       " Timestamp('2017-01-21 00:00:00'): [6435, 2601, 1808, 2358],\n",
       " Timestamp('2017-10-03 00:00:00'): [9227, 4202, 2763, 2353],\n",
       " Timestamp('2018-01-23 00:00:00'): [9538, 5148, 3287, 2732],\n",
       " Timestamp('2018-01-27 00:00:00'): [8030, 3952, 2365, 2123],\n",
       " Timestamp('2017-11-27 00:00:00'): [11677, 5199, 3523, 3273],\n",
       " Timestamp('2017-12-27 00:00:00'): [10483, 6175, 3255, 3196],\n",
       " Timestamp('2018-02-09 00:00:00'): [9090, 5181, 3082, 2778],\n",
       " Timestamp('2017-08-10 00:00:00'): [6856, 3326, 1908, 1934],\n",
       " Timestamp('2018-01-18 00:00:00'): [8694, 4606, 2709, 2519],\n",
       " Timestamp('2017-03-10 00:00:00'): [7467, 3170, 2035, 2130],\n",
       " Timestamp('2017-06-09 00:00:00'): [6845, 2204, 1802, 1837],\n",
       " Timestamp('2017-12-26 00:00:00'): [11250, 6092, 2903, 3188],\n",
       " Timestamp('2017-06-24 00:00:00'): [5492, 2064, 1469, 1331],\n",
       " Timestamp('2017-10-08 00:00:00'): [7856, 3512, 2128, 1927],\n",
       " Timestamp('2017-05-10 00:00:00'): [7729, 1861, 2110, 2188],\n",
       " Timestamp('2018-01-30 00:00:00'): [10854, 5409, 3524, 2875],\n",
       " Timestamp('2017-11-14 00:00:00'): [9700, 5148, 3345, 3028],\n",
       " Timestamp('2017-03-22 00:00:00'): [7714, 3281, 2040, 2212],\n",
       " Timestamp('2018-01-03 00:00:00'): [7528, 3137, 2116, 1810],\n",
       " Timestamp('2017-03-14 00:00:00'): [7726, 3665, 2296, 2470],\n",
       " Timestamp('2018-02-21 00:00:00'): [10933, 6398, 3756, 3328],\n",
       " Timestamp('2017-04-10 00:00:00'): [7694, 3479, 2260, 2274],\n",
       " Timestamp('2017-02-07 00:00:00'): [8136, 4363, 2541, 2824],\n",
       " Timestamp('2017-10-19 00:00:00'): [8610, 4215, 2400, 2409],\n",
       " Timestamp('2017-12-31 00:00:00'): [4809, 1710, 877, 934],\n",
       " Timestamp('2017-02-05 00:00:00'): [7411, 3314, 2195, 2162],\n",
       " Timestamp('2018-03-07 00:00:00'): [10199, 4431, 2598, 2609],\n",
       " Timestamp('2017-09-26 00:00:00'): [8548, 4872, 3164, 2634],\n",
       " Timestamp('2017-03-02 00:00:00'): [8587, 3906, 2827, 2778],\n",
       " Timestamp('2018-03-19 00:00:00'): [11016, 4996, 3472, 2941],\n",
       " Timestamp('2018-02-19 00:00:00'): [11195, 6356, 3606, 3305],\n",
       " Timestamp('2018-02-20 00:00:00'): [11346, 6667, 3764, 3676],\n",
       " Timestamp('2018-01-17 00:00:00'): [8994, 4739, 3251, 2603],\n",
       " Timestamp('2018-03-04 00:00:00'): [10513, 5548, 3677, 3209],\n",
       " Timestamp('2017-03-20 00:00:00'): [7913, 3618, 2336, 2412],\n",
       " Timestamp('2017-03-11 00:00:00'): [6513, 2764, 1839, 1969],\n",
       " Timestamp('2017-12-18 00:00:00'): [11078, 7679, 4132, 4346],\n",
       " Timestamp('2017-12-06 00:00:00'): [11748, 7267, 4345, 3569],\n",
       " Timestamp('2017-04-23 00:00:00'): [7189, 1539, 2225, 2078],\n",
       " Timestamp('2018-03-10 00:00:00'): [8953, 4638, 3140, 2847],\n",
       " Timestamp('2017-09-29 00:00:00'): [7991, 3782, 2505, 2185],\n",
       " Timestamp('2017-06-15 00:00:00'): [7546, 2662, 2430, 2122],\n",
       " Timestamp('2017-02-01 00:00:00'): [8103, 4506, 3099, 2971],\n",
       " Timestamp('2017-06-04 00:00:00'): [7026, 2078, 1780, 1653],\n",
       " Timestamp('2017-04-16 00:00:00'): [6191, 2706, 1268, 1773],\n",
       " Timestamp('2017-04-25 00:00:00'): [7717, 1656, 2639, 2332],\n",
       " Timestamp('2017-06-28 00:00:00'): [6712, 2975, 1785, 1778],\n",
       " Timestamp('2018-01-13 00:00:00'): [7931, 3815, 2539, 2142],\n",
       " Timestamp('2017-01-20 00:00:00'): [7377, 3374, 2607, 2458],\n",
       " Timestamp('2017-06-23 00:00:00'): [6450, 2719, 1863, 1687],\n",
       " Timestamp('2017-03-25 00:00:00'): [6664, 2862, 2085, 2030],\n",
       " Timestamp('2017-07-14 00:00:00'): [6737, 2342, 1463, 1604],\n",
       " Timestamp('2017-10-24 00:00:00'): [8813, 4381, 3058, 2547],\n",
       " Timestamp('2018-03-28 00:00:00'): [9109, 4572, 3106, 2775],\n",
       " Timestamp('2017-07-16 00:00:00'): [6327, 2304, 1302, 1450],\n",
       " Timestamp('2017-02-28 00:00:00'): [8435, 4265, 2466, 2791],\n",
       " Timestamp('2017-04-17 00:00:00'): [7637, 2131, 2249, 2449],\n",
       " Timestamp('2017-01-03 00:00:00'): [5041, 2086, 1490, 1323],\n",
       " Timestamp('2017-04-20 00:00:00'): [7741, 1472, 2367, 2218],\n",
       " Timestamp('2018-01-31 00:00:00'): [10052, 5617, 3249, 3100],\n",
       " Timestamp('2018-01-14 00:00:00'): [8681, 4108, 2486, 2335],\n",
       " Timestamp('2017-12-23 00:00:00'): [7351, 4492, 2463, 2581],\n",
       " Timestamp('2017-10-04 00:00:00'): [9139, 4203, 2910, 2317],\n",
       " Timestamp('2017-04-02 00:00:00'): [7574, 2923, 1885, 2016],\n",
       " Timestamp('2017-11-04 00:00:00'): [6910, 3303, 2050, 1951],\n",
       " Timestamp('2017-01-11 00:00:00'): [7843, 3186, 2058, 1951],\n",
       " Timestamp('2018-03-14 00:00:00'): [10665, 5631, 3723, 3310],\n",
       " Timestamp('2017-05-22 00:00:00'): [7558, 1818, 2381, 2195],\n",
       " Timestamp('2017-10-02 00:00:00'): [9144, 4694, 2859, 2550],\n",
       " Timestamp('2017-06-20 00:00:00'): [7926, 2361, 1883, 1821],\n",
       " Timestamp('2017-04-28 00:00:00'): [6383, 1588, 1637, 1936],\n",
       " Timestamp('2017-05-30 00:00:00'): [7302, 2984, 2201, 2195],\n",
       " Timestamp('2018-02-24 00:00:00'): [8777, 4916, 2862, 2701],\n",
       " Timestamp('2017-02-03 00:00:00'): [7531, 3741, 1998, 2495],\n",
       " Timestamp('2017-08-01 00:00:00'): [6872, 2898, 1801, 1845],\n",
       " Timestamp('2018-02-17 00:00:00'): [8797, 4440, 2642, 2647],\n",
       " Timestamp('2017-11-15 00:00:00'): [9402, 5095, 3407, 2878],\n",
       " Timestamp('2018-03-31 00:00:00'): [8654, 3864, 2627, 2540],\n",
       " Timestamp('2017-09-07 00:00:00'): [8242, 3876, 2595, 2274],\n",
       " Timestamp('2017-12-28 00:00:00'): [9716, 4974, 2709, 2736],\n",
       " Timestamp('2018-01-21 00:00:00'): [7885, 3825, 2515, 2125],\n",
       " Timestamp('2017-12-17 00:00:00'): [9045, 5794, 3503, 3456],\n",
       " Timestamp('2017-09-03 00:00:00'): [6929, 3469, 2145, 2145],\n",
       " Timestamp('2018-03-12 00:00:00'): [10554, 5800, 3820, 3375],\n",
       " Timestamp('2017-11-29 00:00:00'): [11042, 4827, 3554, 3163],\n",
       " Timestamp('2017-10-10 00:00:00'): [9017, 4229, 3130, 2272],\n",
       " Timestamp('2017-10-09 00:00:00'): [9416, 4709, 2833, 2658],\n",
       " Timestamp('2017-10-30 00:00:00'): [8733, 4323, 3106, 2531],\n",
       " Timestamp('2017-12-30 00:00:00'): [6889, 2916, 1368, 1529],\n",
       " Timestamp('2017-03-27 00:00:00'): [8292, 3335, 2386, 2338],\n",
       " Timestamp('2018-01-01 00:00:00'): [5629, 1992, 1125, 1233],\n",
       " Timestamp('2017-06-18 00:00:00'): [6778, 2141, 2021, 1629],\n",
       " Timestamp('2017-07-26 00:00:00'): [6789, 3270, 1815, 1874],\n",
       " Timestamp('2018-03-13 00:00:00'): [10981, 6031, 3708, 3582],\n",
       " Timestamp('2017-03-08 00:00:00'): [6606, 2650, 1569, 1867],\n",
       " Timestamp('2017-12-03 00:00:00'): [10351, 4631, 3222, 2957],\n",
       " Timestamp('2017-05-17 00:00:00'): [7618, 1976, 2720, 2443],\n",
       " Timestamp('2017-08-07 00:00:00'): [7263, 3226, 1919, 1900],\n",
       " Timestamp('2017-09-01 00:00:00'): [6425, 3227, 1833, 1985],\n",
       " Timestamp('2017-06-30 00:00:00'): [6430, 2788, 1711, 1720],\n",
       " Timestamp('2018-01-29 00:00:00'): [11197, 6047, 3686, 3346],\n",
       " Timestamp('2017-06-29 00:00:00'): [6778, 2821, 1672, 1704],\n",
       " Timestamp('2017-11-12 00:00:00'): [8739, 3979, 2566, 2219],\n",
       " Timestamp('2018-01-09 00:00:00'): [9775, 5007, 2641, 2701],\n",
       " Timestamp('2017-11-10 00:00:00'): [8552, 4548, 2694, 2613],\n",
       " Timestamp('2017-12-25 00:00:00'): [10906, 6349, 3226, 3365],\n",
       " Timestamp('2017-05-06 00:00:00'): [5394, 1299, 1430, 1689],\n",
       " Timestamp('2017-12-15 00:00:00'): [11618, 6692, 3929, 3754],\n",
       " Timestamp('2017-07-02 00:00:00'): [5947, 2246, 1852, 1467],\n",
       " Timestamp('2017-12-08 00:00:00'): [11007, 6270, 4043, 3478],\n",
       " Timestamp('2017-09-02 00:00:00'): [6035, 2960, 2006, 1769],\n",
       " Timestamp('2017-08-05 00:00:00'): [5144, 2200, 1360, 1362],\n",
       " Timestamp('2018-03-24 00:00:00'): [8916, 4082, 2801, 2612],\n",
       " Timestamp('2017-08-03 00:00:00'): [6454, 3296, 1976, 2088],\n",
       " Timestamp('2017-09-20 00:00:00'): [8017, 4372, 2632, 2356],\n",
       " Timestamp('2017-10-14 00:00:00'): [7262, 3628, 2037, 1888],\n",
       " Timestamp('2017-01-22 00:00:00'): [7462, 3221, 2010, 2741],\n",
       " Timestamp('2017-05-02 00:00:00'): [7204, 1708, 1941, 2201],\n",
       " Timestamp('2017-07-22 00:00:00'): [5192, 2228, 1493, 1398],\n",
       " Timestamp('2017-06-25 00:00:00'): [6214, 2377, 1526, 1554],\n",
       " Timestamp('2017-06-14 00:00:00'): [8052, 2425, 1916, 1999],\n",
       " Timestamp('2017-07-24 00:00:00'): [6940, 3133, 1950, 2020],\n",
       " Timestamp('2017-12-13 00:00:00'): [12339, 7244, 3971, 3999],\n",
       " Timestamp('2017-09-05 00:00:00'): [8625, 4275, 2474, 2377],\n",
       " Timestamp('2017-08-29 00:00:00'): [8030, 3814, 2384, 2317],\n",
       " Timestamp('2017-02-19 00:00:00'): [8062, 3670, 2394, 2454],\n",
       " Timestamp('2017-08-22 00:00:00'): [7823, 4018, 2422, 2322],\n",
       " Timestamp('2017-06-08 00:00:00'): [7451, 2385, 2009, 1800],\n",
       " Timestamp('2017-11-02 00:00:00'): [8740, 4145, 2294, 2460],\n",
       " Timestamp('2017-05-14 00:00:00'): [6394, 1360, 1667, 1621],\n",
       " Timestamp('2017-07-25 00:00:00'): [7104, 3654, 2071, 2242],\n",
       " Timestamp('2017-03-16 00:00:00'): [7648, 3285, 2174, 2157],\n",
       " Timestamp('2017-12-22 00:00:00'): [8519, 5426, 2855, 2962],\n",
       " Timestamp('2017-07-29 00:00:00'): [4963, 2284, 1461, 1416],\n",
       " Timestamp('2017-02-12 00:00:00'): [7803, 3459, 2135, 2337],\n",
       " Timestamp('2017-10-29 00:00:00'): [7875, 3870, 2388, 2329],\n",
       " Timestamp('2017-10-07 00:00:00'): [7160, 3769, 2123, 1923],\n",
       " Timestamp('2018-01-04 00:00:00'): [7577, 3326, 1944, 1766],\n",
       " Timestamp('2017-08-25 00:00:00'): [7176, 3359, 2167, 1961],\n",
       " Timestamp('2017-05-11 00:00:00'): [7613, 1701, 2275, 2132],\n",
       " Timestamp('2017-08-17 00:00:00'): [7001, 3438, 1892, 1996],\n",
       " Timestamp('2017-04-15 00:00:00'): [5522, 2577, 1535, 1772],\n",
       " Timestamp('2017-05-12 00:00:00'): [6887, 1717, 2327, 2097],\n",
       " Timestamp('2018-02-14 00:00:00'): [10017, 7996, 3445, 3576],\n",
       " Timestamp('2017-09-13 00:00:00'): [8332, 4549, 2709, 2672],\n",
       " Timestamp('2017-11-11 00:00:00'): [8056, 3859, 2337, 2165],\n",
       " Timestamp('2017-11-23 00:00:00'): [11309, 5050, 3891, 3282],\n",
       " Timestamp('2018-02-22 00:00:00'): [10070, 5087, 3316, 2779],\n",
       " Timestamp('2017-03-03 00:00:00'): [8089, 4076, 2534, 2711],\n",
       " Timestamp('2018-03-23 00:00:00'): [9242, 4590, 3283, 2909],\n",
       " Timestamp('2017-03-31 00:00:00'): [7611, 2913, 2064, 2004],\n",
       " Timestamp('2017-01-06 00:00:00'): [6357, 2450, 1536, 1512],\n",
       " Timestamp('2017-07-11 00:00:00'): [7152, 3006, 1742, 1888],\n",
       " Timestamp('2017-08-16 00:00:00'): [7141, 3346, 1995, 2006],\n",
       " Timestamp('2017-01-15 00:00:00'): [7719, 2925, 2021, 1738],\n",
       " Timestamp('2017-07-07 00:00:00'): [6980, 2996, 2124, 1862],\n",
       " Timestamp('2017-08-20 00:00:00'): [6010, 2629, 1801, 1515],\n",
       " Timestamp('2017-02-18 00:00:00'): [7200, 3364, 1992, 2181],\n",
       " Timestamp('2017-09-10 00:00:00'): [7009, 3221, 1937, 1886],\n",
       " Timestamp('2017-05-20 00:00:00'): [5271, 1101, 1633, 1672],\n",
       " Timestamp('2017-07-28 00:00:00'): [6227, 2637, 1486, 1609],\n",
       " Timestamp('2017-01-05 00:00:00'): [6460, 2288, 1475, 1350],\n",
       " Timestamp('2017-05-28 00:00:00'): [6441, 2501, 1749, 1776],\n",
       " Timestamp('2017-03-23 00:00:00'): [7450, 3378, 2095, 2329],\n",
       " Timestamp('2017-06-10 00:00:00'): [5795, 1478, 1298, 1263],\n",
       " Timestamp('2017-08-27 00:00:00'): [6434, 2935, 1774, 1822],\n",
       " Timestamp('2017-10-20 00:00:00'): [8385, 4310, 2420, 2558],\n",
       " Timestamp('2017-03-12 00:00:00'): [7148, 3040, 2107, 2004],\n",
       " Timestamp('2017-12-21 00:00:00'): [9456, 6177, 3358, 3521],\n",
       " Timestamp('2017-08-24 00:00:00'): [7545, 3903, 2377, 2279],\n",
       " Timestamp('2017-11-01 00:00:00'): [8835, 4555, 2914, 2624],\n",
       " Timestamp('2017-01-23 00:00:00'): [8430, 3570, 2335, 3050],\n",
       " Timestamp('2017-08-15 00:00:00'): [7137, 3641, 2075, 2173],\n",
       " Timestamp('2018-01-02 00:00:00'): [7319, 2940, 1654, 1645],\n",
       " Timestamp('2017-03-30 00:00:00'): [7815, 3569, 2073, 2216],\n",
       " Timestamp('2017-09-12 00:00:00'): [8400, 4215, 2946, 2390],\n",
       " Timestamp('2017-10-16 00:00:00'): [9329, 4403, 2772, 2583],\n",
       " Timestamp('2017-12-10 00:00:00'): [10878, 6466, 3897, 3546],\n",
       " Timestamp('2017-05-01 00:00:00'): [5779, 1227, 1541, 1740],\n",
       " Timestamp('2017-09-22 00:00:00'): [7256, 4194, 2645, 2180],\n",
       " Timestamp('2017-08-04 00:00:00'): [6186, 2671, 1621, 1624],\n",
       " Timestamp('2017-04-29 00:00:00'): [5186, 1350, 1726, 1655],\n",
       " Timestamp('2018-03-21 00:00:00'): [10481, 4833, 3395, 2958],\n",
       " Timestamp('2018-03-17 00:00:00'): [9042, 4093, 2671, 2431],\n",
       " Timestamp('2017-01-31 00:00:00'): [8801, 4584, 2869, 3185],\n",
       " Timestamp('2017-04-09 00:00:00'): [6669, 2945, 1862, 2001],\n",
       " Timestamp('2017-07-03 00:00:00'): [7287, 2901, 1916, 1818],\n",
       " Timestamp('2017-02-20 00:00:00'): [9277, 4738, 2584, 3213],\n",
       " Timestamp('2018-02-05 00:00:00'): [10617, 5499, 3312, 2963],\n",
       " Timestamp('2017-06-05 00:00:00'): [8132, 2721, 2179, 2068],\n",
       " Timestamp('2017-06-12 00:00:00'): [6839, 2192, 1984, 1792],\n",
       " Timestamp('2017-04-26 00:00:00'): [7643, 1701, 2374, 2227],\n",
       " Timestamp('2017-03-24 00:00:00'): [7243, 3040, 2086, 2046],\n",
       " Timestamp('2017-08-11 00:00:00'): [6468, 3001, 1915, 1666],\n",
       " Timestamp('2017-02-23 00:00:00'): [6893, 3207, 1756, 2095],\n",
       " Timestamp('2017-11-17 00:00:00'): [9120, 4324, 2837, 2489],\n",
       " Timestamp('2017-05-18 00:00:00'): [7131, 1701, 2269, 2159],\n",
       " Timestamp('2017-08-18 00:00:00'): [6475, 2832, 1821, 1667],\n",
       " Timestamp('2017-07-08 00:00:00'): [5755, 2247, 1542, 1307],\n",
       " Timestamp('2017-09-17 00:00:00'): [7277, 3866, 2171, 2075],\n",
       " Timestamp('2017-01-17 00:00:00'): [8131, 3662, 2199, 2152],\n",
       " Timestamp('2017-02-26 00:00:00'): [7440, 3285, 2206, 2211],\n",
       " Timestamp('2017-05-24 00:00:00'): [7318, 2946, 2070, 1957],\n",
       " Timestamp('2017-08-06 00:00:00'): [5917, 2248, 1472, 1416],\n",
       " Timestamp('2017-01-10 00:00:00'): [8306, 3665, 2178, 2169],\n",
       " Timestamp('2017-01-18 00:00:00'): [7839, 3550, 2400, 2071],\n",
       " Timestamp('2017-07-04 00:00:00'): [7478, 3110, 1962, 1960],\n",
       " Timestamp('2017-12-24 00:00:00'): [8257, 5456, 2835, 2937],\n",
       " Timestamp('2017-08-13 00:00:00'): [5727, 2319, 1442, 1450],\n",
       " Timestamp('2017-02-04 00:00:00'): [6841, 3218, 2032, 2147],\n",
       " Timestamp('2018-03-29 00:00:00'): [9292, 5223, 3698, 3029],\n",
       " Timestamp('2017-06-16 00:00:00'): [7364, 2482, 1953, 1903],\n",
       " Timestamp('2017-06-22 00:00:00'): [7395, 2805, 1807, 1707],\n",
       " Timestamp('2017-07-18 00:00:00'): [7333, 2972, 1801, 1800],\n",
       " Timestamp('2017-08-21 00:00:00'): [7490, 3219, 2069, 2052],\n",
       " Timestamp('2017-02-27 00:00:00'): [8653, 4194, 2718, 2737],\n",
       " Timestamp('2017-08-02 00:00:00'): [6666, 3070, 2030, 1974],\n",
       " Timestamp('2017-04-27 00:00:00'): [6988, 1849, 1883, 2165],\n",
       " Timestamp('2018-02-01 00:00:00'): [10150, 5329, 3266, 2837],\n",
       " Timestamp('2017-06-11 00:00:00'): [6069, 1895, 1476, 1507],\n",
       " Timestamp('2018-01-19 00:00:00'): [7893, 4255, 2293, 2232],\n",
       " Timestamp('2017-04-04 00:00:00'): [8018, 3575, 2202, 2335],\n",
       " Timestamp('2017-02-11 00:00:00'): [6895, 3126, 1973, 2116],\n",
       " Timestamp('2017-08-09 00:00:00'): [7145, 3481, 2087, 2193],\n",
       " Timestamp('2017-01-04 00:00:00'): [6521, 2206, 1224, 1395],\n",
       " Timestamp('2017-02-06 00:00:00'): [8276, 4194, 2536, 2840],\n",
       " Timestamp('2017-07-31 00:00:00'): [7012, 3127, 1865, 1891],\n",
       " Timestamp('2017-08-12 00:00:00'): [5310, 2398, 1434, 1515],\n",
       " Timestamp('2017-03-15 00:00:00'): [7801, 3595, 2444, 2375],\n",
       " Timestamp('2017-07-12 00:00:00'): [7493, 3240, 1883, 2077],\n",
       " Timestamp('2017-03-09 00:00:00'): [7726, 3594, 2221, 2525],\n",
       " Timestamp('2017-07-27 00:00:00'): [6536, 2994, 1710, 1752],\n",
       " Timestamp('2017-05-07 00:00:00'): [5344, 1181, 1621, 1525],\n",
       " Timestamp('2017-01-01 00:00:00'): [3686, 1379, 746, 883],\n",
       " Timestamp('2017-01-02 00:00:00'): [4470, 1776, 1692, 1106],\n",
       " Timestamp('2017-04-07 00:00:00'): [6997, 3181, 1955, 2075]}"
      ]
     },
     "execution_count": 132,
     "metadata": {},
     "output_type": "execute_result"
    }
   ],
   "source": [
    "events_dict"
   ]
  },
  {
   "cell_type": "code",
   "execution_count": 133,
   "metadata": {},
   "outputs": [],
   "source": [
    "# Преобразуем словарь в DataFrame с удобным обозначение столбцов\n",
    "events_df = pd.DataFrame.from_dict(events_dict, orient='index').reset_index()\n",
    "events_df.rename(columns={'index': 'date', 0: 'landing', 1: 'ecommerce', 2: 'cartView', 3: 'cartAdd'}, inplace=True)"
   ]
  },
  {
   "cell_type": "code",
   "execution_count": 134,
   "metadata": {},
   "outputs": [
    {
     "data": {
      "text/html": [
       "<div>\n",
       "<style scoped>\n",
       "    .dataframe tbody tr th:only-of-type {\n",
       "        vertical-align: middle;\n",
       "    }\n",
       "\n",
       "    .dataframe tbody tr th {\n",
       "        vertical-align: top;\n",
       "    }\n",
       "\n",
       "    .dataframe thead th {\n",
       "        text-align: right;\n",
       "    }\n",
       "</style>\n",
       "<table border=\"1\" class=\"dataframe\">\n",
       "  <thead>\n",
       "    <tr style=\"text-align: right;\">\n",
       "      <th></th>\n",
       "      <th>date</th>\n",
       "      <th>landing</th>\n",
       "      <th>ecommerce</th>\n",
       "      <th>cartView</th>\n",
       "      <th>cartAdd</th>\n",
       "    </tr>\n",
       "  </thead>\n",
       "  <tbody>\n",
       "    <tr>\n",
       "      <td>0</td>\n",
       "      <td>2017-09-28</td>\n",
       "      <td>8555</td>\n",
       "      <td>4523</td>\n",
       "      <td>2747</td>\n",
       "      <td>2386</td>\n",
       "    </tr>\n",
       "    <tr>\n",
       "      <td>1</td>\n",
       "      <td>2017-06-06</td>\n",
       "      <td>8105</td>\n",
       "      <td>2727</td>\n",
       "      <td>2342</td>\n",
       "      <td>2204</td>\n",
       "    </tr>\n",
       "    <tr>\n",
       "      <td>2</td>\n",
       "      <td>2017-01-14</td>\n",
       "      <td>6922</td>\n",
       "      <td>2623</td>\n",
       "      <td>2070</td>\n",
       "      <td>1650</td>\n",
       "    </tr>\n",
       "    <tr>\n",
       "      <td>3</td>\n",
       "      <td>2017-04-24</td>\n",
       "      <td>8059</td>\n",
       "      <td>1887</td>\n",
       "      <td>2434</td>\n",
       "      <td>2451</td>\n",
       "    </tr>\n",
       "    <tr>\n",
       "      <td>4</td>\n",
       "      <td>2017-03-13</td>\n",
       "      <td>8145</td>\n",
       "      <td>3779</td>\n",
       "      <td>2196</td>\n",
       "      <td>2622</td>\n",
       "    </tr>\n",
       "    <tr>\n",
       "      <td>...</td>\n",
       "      <td>...</td>\n",
       "      <td>...</td>\n",
       "      <td>...</td>\n",
       "      <td>...</td>\n",
       "      <td>...</td>\n",
       "    </tr>\n",
       "    <tr>\n",
       "      <td>450</td>\n",
       "      <td>2017-07-27</td>\n",
       "      <td>6536</td>\n",
       "      <td>2994</td>\n",
       "      <td>1710</td>\n",
       "      <td>1752</td>\n",
       "    </tr>\n",
       "    <tr>\n",
       "      <td>451</td>\n",
       "      <td>2017-05-07</td>\n",
       "      <td>5344</td>\n",
       "      <td>1181</td>\n",
       "      <td>1621</td>\n",
       "      <td>1525</td>\n",
       "    </tr>\n",
       "    <tr>\n",
       "      <td>452</td>\n",
       "      <td>2017-01-01</td>\n",
       "      <td>3686</td>\n",
       "      <td>1379</td>\n",
       "      <td>746</td>\n",
       "      <td>883</td>\n",
       "    </tr>\n",
       "    <tr>\n",
       "      <td>453</td>\n",
       "      <td>2017-01-02</td>\n",
       "      <td>4470</td>\n",
       "      <td>1776</td>\n",
       "      <td>1692</td>\n",
       "      <td>1106</td>\n",
       "    </tr>\n",
       "    <tr>\n",
       "      <td>454</td>\n",
       "      <td>2017-04-07</td>\n",
       "      <td>6997</td>\n",
       "      <td>3181</td>\n",
       "      <td>1955</td>\n",
       "      <td>2075</td>\n",
       "    </tr>\n",
       "  </tbody>\n",
       "</table>\n",
       "<p>455 rows × 5 columns</p>\n",
       "</div>"
      ],
      "text/plain": [
       "          date  landing  ecommerce  cartView  cartAdd\n",
       "0   2017-09-28     8555       4523      2747     2386\n",
       "1   2017-06-06     8105       2727      2342     2204\n",
       "2   2017-01-14     6922       2623      2070     1650\n",
       "3   2017-04-24     8059       1887      2434     2451\n",
       "4   2017-03-13     8145       3779      2196     2622\n",
       "..         ...      ...        ...       ...      ...\n",
       "450 2017-07-27     6536       2994      1710     1752\n",
       "451 2017-05-07     5344       1181      1621     1525\n",
       "452 2017-01-01     3686       1379       746      883\n",
       "453 2017-01-02     4470       1776      1692     1106\n",
       "454 2017-04-07     6997       3181      1955     2075\n",
       "\n",
       "[455 rows x 5 columns]"
      ]
     },
     "execution_count": 134,
     "metadata": {},
     "output_type": "execute_result"
    }
   ],
   "source": [
    "events_df"
   ]
  },
  {
   "cell_type": "code",
   "execution_count": 18,
   "metadata": {},
   "outputs": [],
   "source": [
    "# Словарь размера конверсии по дням\n",
    "conversion_dict = {}\n",
    "for index in range(len(events_df)):\n",
    "    conversion_dict[events_df.loc[index, 'date']] = (float(actions_df.loc[index, 'done'])/events_df.loc[index, 'landing'])*100"
   ]
  },
  {
   "cell_type": "code",
   "execution_count": 19,
   "metadata": {},
   "outputs": [],
   "source": [
    "# Преобразуем словарь в DataFrame с удобным обозначение столбцов\n",
    "conversion_df = pd.DataFrame.from_dict(conversion_dict, orient='index').reset_index()\n",
    "conversion_df.rename(columns={'index': 'date', 0: 'conversion'}, inplace=True)"
   ]
  },
  {
   "cell_type": "markdown",
   "metadata": {},
   "source": [
    "Посмотрим как выглядят и как распределены необходимые нам данные с конверсией по дням"
   ]
  },
  {
   "cell_type": "code",
   "execution_count": 20,
   "metadata": {},
   "outputs": [
    {
     "data": {
      "text/html": [
       "<div>\n",
       "<style scoped>\n",
       "    .dataframe tbody tr th:only-of-type {\n",
       "        vertical-align: middle;\n",
       "    }\n",
       "\n",
       "    .dataframe tbody tr th {\n",
       "        vertical-align: top;\n",
       "    }\n",
       "\n",
       "    .dataframe thead th {\n",
       "        text-align: right;\n",
       "    }\n",
       "</style>\n",
       "<table border=\"1\" class=\"dataframe\">\n",
       "  <thead>\n",
       "    <tr style=\"text-align: right;\">\n",
       "      <th></th>\n",
       "      <th>date</th>\n",
       "      <th>conversion</th>\n",
       "    </tr>\n",
       "  </thead>\n",
       "  <tbody>\n",
       "    <tr>\n",
       "      <th>0</th>\n",
       "      <td>2017-07-11</td>\n",
       "      <td>1.817673</td>\n",
       "    </tr>\n",
       "    <tr>\n",
       "      <th>1</th>\n",
       "      <td>2018-01-11</td>\n",
       "      <td>1.822863</td>\n",
       "    </tr>\n",
       "    <tr>\n",
       "      <th>2</th>\n",
       "      <td>2017-02-15</td>\n",
       "      <td>2.319098</td>\n",
       "    </tr>\n",
       "    <tr>\n",
       "      <th>3</th>\n",
       "      <td>2017-11-05</td>\n",
       "      <td>1.523784</td>\n",
       "    </tr>\n",
       "    <tr>\n",
       "      <th>4</th>\n",
       "      <td>2017-04-23</td>\n",
       "      <td>1.697037</td>\n",
       "    </tr>\n",
       "  </tbody>\n",
       "</table>\n",
       "</div>"
      ],
      "text/plain": [
       "        date  conversion\n",
       "0 2017-07-11    1.817673\n",
       "1 2018-01-11    1.822863\n",
       "2 2017-02-15    2.319098\n",
       "3 2017-11-05    1.523784\n",
       "4 2017-04-23    1.697037"
      ]
     },
     "execution_count": 20,
     "metadata": {},
     "output_type": "execute_result"
    }
   ],
   "source": [
    "conversion_df.head()"
   ]
  },
  {
   "cell_type": "code",
   "execution_count": 21,
   "metadata": {},
   "outputs": [
    {
     "data": {
      "text/plain": [
       "<matplotlib.axes._subplots.AxesSubplot at 0x7f4ca2914990>"
      ]
     },
     "execution_count": 21,
     "metadata": {},
     "output_type": "execute_result"
    },
    {
     "data": {
      "image/png": "[encoded data removed]",
      "text/plain": [
       "<matplotlib.figure.Figure at 0x7f4ca28e48d0>"
      ]
     },
     "metadata": {},
     "output_type": "display_data"
    }
   ],
   "source": [
    "conversion_df['conversion'].plot(kind='hist')"
   ]
  },
  {
   "cell_type": "markdown",
   "metadata": {},
   "source": [
    "Видим по графику что интересующие нас данные по значению конверсии небольшие отклонения от нормально распределения. Для улучшения качества анализа нормализуем данные, а именно дни с конверсией менее 0.5 и более 3"
   ]
  },
  {
   "cell_type": "code",
   "execution_count": 22,
   "metadata": {},
   "outputs": [],
   "source": [
    "conversion_df.drop(conversion_df[conversion_df.conversion > 3].index, inplace=True)\n",
    "conversion_df.drop(conversion_df[conversion_df.conversion < 0.5].index, inplace=True)"
   ]
  },
  {
   "cell_type": "markdown",
   "metadata": {},
   "source": [
    "Чтобы определить насколько внедрение одностраничной формы оформления заказа повлияло на конверсии, разделим данные на три части:\n",
    "* До начала внедрения одностраничной формы оформления заказа(с 1 декабря 2017 по 31 марта 2017 года)\n",
    "* Во время внедрения и тестирования(с 1 апреля 2017 по 31 мая 2017 года)\n",
    "* После окончательного внедрения(с 1 июня 2017 по 31 марта 2018 года)"
   ]
  },
  {
   "cell_type": "markdown",
   "metadata": {},
   "source": [
    "Итого, получатся что мы имеем данные: \n",
    "* за три месяца до начала внедрения новой формы оформления заказа\n",
    "* два месяца во время внедрения и тестирования\n",
    "* семь месяцев после внедрения"
   ]
  },
  {
   "cell_type": "code",
   "execution_count": 23,
   "metadata": {},
   "outputs": [],
   "source": [
    "start = datetime(2017,4,1) # день начала внеднерия одностраничной формы\n",
    "end = datetime(2017,6,1) # день окончательного внедрения\n",
    "\n",
    "# DF событий разделенный на части до изменений, во время введения и после внесения изменений\n",
    "beforeTestEvents = events_df.drop(events_df[events_df.date >= start].index)\n",
    "timeTestEvents = events_df.drop(events_df[events_df.date < start].index)\n",
    "timeTestEvents.drop(timeTestEvents[timeTestEvents.date >= end].index, inplace=True)\n",
    "afterTestEvents = events_df.drop(events_df[events_df.date < end].index)\n",
    "\n",
    "# DF действий разделенный на части до изменений, во время введения и после внесения изменений\n",
    "beforeTestActions = actions_df.drop(actions_df[actions_df.date >= start].index)\n",
    "timeTestActions = actions_df.drop(actions_df[actions_df.date < start].index)\n",
    "timeTestActions.drop(timeTestActions[timeTestActions.date >= end].index, inplace=True)\n",
    "afterTestActions = actions_df.drop(actions_df[actions_df.date < end].index)\n",
    "\n",
    "# DF конверсии разделенный на части до изменений, во время введения и после внесения изменений\n",
    "beforeTestConversion = conversion_df.drop(conversion_df[conversion_df.date >= start].index)\n",
    "timeTestConversion = conversion_df.drop(conversion_df[conversion_df.date < start].index)\n",
    "timeTestConversion.drop(timeTestConversion[timeTestConversion.date >= end].index, inplace=True)\n",
    "afterTestConversion = conversion_df.drop(conversion_df[conversion_df.date < end].index)"
   ]
  },
  {
   "cell_type": "code",
   "execution_count": 24,
   "metadata": {},
   "outputs": [
    {
     "data": {
      "text/html": [
       "<div>\n",
       "<style scoped>\n",
       "    .dataframe tbody tr th:only-of-type {\n",
       "        vertical-align: middle;\n",
       "    }\n",
       "\n",
       "    .dataframe tbody tr th {\n",
       "        vertical-align: top;\n",
       "    }\n",
       "\n",
       "    .dataframe thead th {\n",
       "        text-align: right;\n",
       "    }\n",
       "</style>\n",
       "<table border=\"1\" class=\"dataframe\">\n",
       "  <thead>\n",
       "    <tr style=\"text-align: right;\">\n",
       "      <th></th>\n",
       "      <th>conversion</th>\n",
       "    </tr>\n",
       "  </thead>\n",
       "  <tbody>\n",
       "    <tr>\n",
       "      <th>count</th>\n",
       "      <td>89.000000</td>\n",
       "    </tr>\n",
       "    <tr>\n",
       "      <th>mean</th>\n",
       "      <td>1.808453</td>\n",
       "    </tr>\n",
       "    <tr>\n",
       "      <th>std</th>\n",
       "      <td>0.309589</td>\n",
       "    </tr>\n",
       "    <tr>\n",
       "      <th>min</th>\n",
       "      <td>0.966635</td>\n",
       "    </tr>\n",
       "    <tr>\n",
       "      <th>25%</th>\n",
       "      <td>1.613286</td>\n",
       "    </tr>\n",
       "    <tr>\n",
       "      <th>50%</th>\n",
       "      <td>1.839991</td>\n",
       "    </tr>\n",
       "    <tr>\n",
       "      <th>75%</th>\n",
       "      <td>1.965632</td>\n",
       "    </tr>\n",
       "    <tr>\n",
       "      <th>max</th>\n",
       "      <td>2.811720</td>\n",
       "    </tr>\n",
       "  </tbody>\n",
       "</table>\n",
       "</div>"
      ],
      "text/plain": [
       "       conversion\n",
       "count   89.000000\n",
       "mean     1.808453\n",
       "std      0.309589\n",
       "min      0.966635\n",
       "25%      1.613286\n",
       "50%      1.839991\n",
       "75%      1.965632\n",
       "max      2.811720"
      ]
     },
     "execution_count": 24,
     "metadata": {},
     "output_type": "execute_result"
    }
   ],
   "source": [
    "beforeTestConversion.describe()"
   ]
  },
  {
   "cell_type": "code",
   "execution_count": 25,
   "metadata": {},
   "outputs": [
    {
     "data": {
      "text/html": [
       "<div>\n",
       "<style scoped>\n",
       "    .dataframe tbody tr th:only-of-type {\n",
       "        vertical-align: middle;\n",
       "    }\n",
       "\n",
       "    .dataframe tbody tr th {\n",
       "        vertical-align: top;\n",
       "    }\n",
       "\n",
       "    .dataframe thead th {\n",
       "        text-align: right;\n",
       "    }\n",
       "</style>\n",
       "<table border=\"1\" class=\"dataframe\">\n",
       "  <thead>\n",
       "    <tr style=\"text-align: right;\">\n",
       "      <th></th>\n",
       "      <th>conversion</th>\n",
       "    </tr>\n",
       "  </thead>\n",
       "  <tbody>\n",
       "    <tr>\n",
       "      <th>count</th>\n",
       "      <td>61.000000</td>\n",
       "    </tr>\n",
       "    <tr>\n",
       "      <th>mean</th>\n",
       "      <td>1.770797</td>\n",
       "    </tr>\n",
       "    <tr>\n",
       "      <th>std</th>\n",
       "      <td>0.264911</td>\n",
       "    </tr>\n",
       "    <tr>\n",
       "      <th>min</th>\n",
       "      <td>0.877653</td>\n",
       "    </tr>\n",
       "    <tr>\n",
       "      <th>25%</th>\n",
       "      <td>1.641108</td>\n",
       "    </tr>\n",
       "    <tr>\n",
       "      <th>50%</th>\n",
       "      <td>1.778711</td>\n",
       "    </tr>\n",
       "    <tr>\n",
       "      <th>75%</th>\n",
       "      <td>1.943761</td>\n",
       "    </tr>\n",
       "    <tr>\n",
       "      <th>max</th>\n",
       "      <td>2.453444</td>\n",
       "    </tr>\n",
       "  </tbody>\n",
       "</table>\n",
       "</div>"
      ],
      "text/plain": [
       "       conversion\n",
       "count   61.000000\n",
       "mean     1.770797\n",
       "std      0.264911\n",
       "min      0.877653\n",
       "25%      1.641108\n",
       "50%      1.778711\n",
       "75%      1.943761\n",
       "max      2.453444"
      ]
     },
     "execution_count": 25,
     "metadata": {},
     "output_type": "execute_result"
    }
   ],
   "source": [
    "timeTestConversion.describe()"
   ]
  },
  {
   "cell_type": "code",
   "execution_count": 26,
   "metadata": {},
   "outputs": [
    {
     "data": {
      "text/html": [
       "<div>\n",
       "<style scoped>\n",
       "    .dataframe tbody tr th:only-of-type {\n",
       "        vertical-align: middle;\n",
       "    }\n",
       "\n",
       "    .dataframe tbody tr th {\n",
       "        vertical-align: top;\n",
       "    }\n",
       "\n",
       "    .dataframe thead th {\n",
       "        text-align: right;\n",
       "    }\n",
       "</style>\n",
       "<table border=\"1\" class=\"dataframe\">\n",
       "  <thead>\n",
       "    <tr style=\"text-align: right;\">\n",
       "      <th></th>\n",
       "      <th>conversion</th>\n",
       "    </tr>\n",
       "  </thead>\n",
       "  <tbody>\n",
       "    <tr>\n",
       "      <th>count</th>\n",
       "      <td>272.000000</td>\n",
       "    </tr>\n",
       "    <tr>\n",
       "      <th>mean</th>\n",
       "      <td>1.896606</td>\n",
       "    </tr>\n",
       "    <tr>\n",
       "      <th>std</th>\n",
       "      <td>0.311895</td>\n",
       "    </tr>\n",
       "    <tr>\n",
       "      <th>min</th>\n",
       "      <td>0.856758</td>\n",
       "    </tr>\n",
       "    <tr>\n",
       "      <th>25%</th>\n",
       "      <td>1.729396</td>\n",
       "    </tr>\n",
       "    <tr>\n",
       "      <th>50%</th>\n",
       "      <td>1.891586</td>\n",
       "    </tr>\n",
       "    <tr>\n",
       "      <th>75%</th>\n",
       "      <td>2.102213</td>\n",
       "    </tr>\n",
       "    <tr>\n",
       "      <th>max</th>\n",
       "      <td>2.707276</td>\n",
       "    </tr>\n",
       "  </tbody>\n",
       "</table>\n",
       "</div>"
      ],
      "text/plain": [
       "       conversion\n",
       "count  272.000000\n",
       "mean     1.896606\n",
       "std      0.311895\n",
       "min      0.856758\n",
       "25%      1.729396\n",
       "50%      1.891586\n",
       "75%      2.102213\n",
       "max      2.707276"
      ]
     },
     "execution_count": 26,
     "metadata": {},
     "output_type": "execute_result"
    }
   ],
   "source": [
    "afterTestConversion.describe()"
   ]
  },
  {
   "cell_type": "code",
   "execution_count": 27,
   "metadata": {},
   "outputs": [
    {
     "data": {
      "text/plain": [
       "1.8966060800280942"
      ]
     },
     "execution_count": 27,
     "metadata": {},
     "output_type": "execute_result"
    }
   ],
   "source": [
    "afterTestConversion.mean().conversion"
   ]
  },
  {
   "cell_type": "code",
   "execution_count": 28,
   "metadata": {},
   "outputs": [
    {
     "name": "stdout",
     "output_type": "stream",
     "text": [
      "Разница между средними в процентах от значения до внедрения: 3.0769392987420567\n"
     ]
    }
   ],
   "source": [
    "print \"Разница между средними в процентах от значения до внедрения:\", (afterTestConversion.mean().conversion - beforeTestConversion.median().conversion)/beforeTestConversion.median().conversion*100"
   ]
  },
  {
   "cell_type": "code",
   "execution_count": 29,
   "metadata": {},
   "outputs": [
    {
     "name": "stdout",
     "output_type": "stream",
     "text": [
      "Разница между медианами в процентах от значения до внедрения: 2.8041174991793234\n"
     ]
    }
   ],
   "source": [
    "print \"Разница между медианами в процентах от значения до внедрения:\", (afterTestConversion.median().conversion - beforeTestConversion.median().conversion)/beforeTestConversion.median().conversion*100"
   ]
  },
  {
   "cell_type": "markdown",
   "metadata": {},
   "source": [
    "По полученным данным видим что конверсия в период после внедрения одностраничной формы оформления заказа увеличилась в среднем на 3 процента. Теперь статистически проверим гипотезу о том что внедрение новой формы действительно повлияло на конверсию."
   ]
  },
  {
   "cell_type": "markdown",
   "metadata": {},
   "source": [
    "## Доверительные интервалы на основе bootstrap"
   ]
  },
  {
   "cell_type": "code",
   "execution_count": 30,
   "metadata": {},
   "outputs": [],
   "source": [
    "def get_bootstrap_samples(data, n_samples):\n",
    "    indices = np.random.randint(0, len(data), (n_samples, len(data)))\n",
    "    samples = data[indices]\n",
    "    return samples"
   ]
  },
  {
   "cell_type": "code",
   "execution_count": 31,
   "metadata": {},
   "outputs": [],
   "source": [
    "def stat_intervals(stat, alpha):\n",
    "    boundaries = np.percentile(stat, [100 * alpha / 2., 100 * (1 - alpha / 2.)])\n",
    "    return boundaries"
   ]
  },
  {
   "cell_type": "markdown",
   "metadata": {},
   "source": [
    "Построим доверительные интервалы для медиан и средних значений конверсии до внедрения и после."
   ]
  },
  {
   "cell_type": "markdown",
   "metadata": {},
   "source": [
    "#### Интервальная оценка медианы"
   ]
  },
  {
   "cell_type": "code",
   "execution_count": 32,
   "metadata": {},
   "outputs": [
    {
     "name": "stdout",
     "output_type": "stream",
     "text": [
      "95% доверительный интервал для значений медианы конверсии до внедрения: [1.74496644 1.87340335]\n",
      "95% доверительный интервал для значений медианы конверсии после внедрения: [1.83794061 1.92895779]\n"
     ]
    }
   ],
   "source": [
    "# Доверительные интервалы для медиан\n",
    "np.random.seed(0)\n",
    "\n",
    "before_median_conversion = map(np.median, get_bootstrap_samples(beforeTestConversion['conversion'].values, 500))\n",
    "after_median_conversion = map(np.median, get_bootstrap_samples(afterTestConversion['conversion'].values , 500))\n",
    "\n",
    "print \"95% доверительный интервал для значений медианы конверсии до внедрения:\", stat_intervals(before_median_conversion , 0.05)\n",
    "print \"95% доверительный интервал для значений медианы конверсии после внедрения:\", stat_intervals(after_median_conversion , 0.05)"
   ]
  },
  {
   "cell_type": "markdown",
   "metadata": {},
   "source": [
    "####  Интервальная оценка средних"
   ]
  },
  {
   "cell_type": "code",
   "execution_count": 33,
   "metadata": {},
   "outputs": [
    {
     "name": "stdout",
     "output_type": "stream",
     "text": [
      "95% доверительный интервал для значений средней конверсии до внедрения: [1.73585043 1.86264674]\n",
      "95% доверительный интервал для значений средней конверсии после внедрения: [1.85854921 1.93775623]\n"
     ]
    }
   ],
   "source": [
    "# Доверительные интервалы для средних\n",
    "np.random.seed(0)\n",
    "\n",
    "before_mean_conversion = map(np.mean, get_bootstrap_samples(beforeTestConversion['conversion'].values, 500))\n",
    "after_mean_conversion = map(np.mean, get_bootstrap_samples(afterTestConversion['conversion'].values , 500))\n",
    "\n",
    "print \"95% доверительный интервал для значений средней конверсии до внедрения:\", stat_intervals(before_mean_conversion , 0.05)\n",
    "print \"95% доверительный интервал для значений средней конверсии после внедрения:\", stat_intervals(after_mean_conversion , 0.05)"
   ]
  },
  {
   "cell_type": "markdown",
   "metadata": {},
   "source": [
    "#### Интервальная оценка разности медиан"
   ]
  },
  {
   "cell_type": "code",
   "execution_count": 34,
   "metadata": {},
   "outputs": [
    {
     "name": "stdout",
     "output_type": "stream",
     "text": [
      "95% доверительный интервал для разности между медианами [-0.0122582   0.16522529]\n"
     ]
    }
   ],
   "source": [
    "delta_median_scores = map(lambda x: x[1] - x[0], zip(before_median_conversion, after_median_conversion))\n",
    "print \"95% доверительный интервал для разности между медианами\",  stat_intervals(delta_median_scores, 0.05)"
   ]
  },
  {
   "cell_type": "markdown",
   "metadata": {},
   "source": [
    "#### Интервальная оценка разности средних"
   ]
  },
  {
   "cell_type": "code",
   "execution_count": 35,
   "metadata": {},
   "outputs": [
    {
     "name": "stdout",
     "output_type": "stream",
     "text": [
      "95% доверительный интервал для разности между средними [0.01790304 0.16916526]\n"
     ]
    }
   ],
   "source": [
    "delta_mean_scores = map(lambda x: x[1] - x[0], zip(before_mean_conversion, after_mean_conversion))\n",
    "print \"95% доверительный интервал для разности между средними\",  stat_intervals(delta_mean_scores, 0.05)"
   ]
  },
  {
   "cell_type": "markdown",
   "metadata": {},
   "source": [
    "Поскольку данные распределены нормально можно воспользоваться критерием Манна — Уитни для выявления достоверности различия между значениями параметра в выборках"
   ]
  },
  {
   "cell_type": "markdown",
   "metadata": {},
   "source": [
    "#### Оценка различий между данными до и после при помощи критерия Манна — Уитни"
   ]
  },
  {
   "cell_type": "code",
   "execution_count": 36,
   "metadata": {},
   "outputs": [
    {
     "name": "stdout",
     "output_type": "stream",
     "text": [
      "Критерий Манна — Уитни 0.008611214332858146\n"
     ]
    }
   ],
   "source": [
    "statistic, pvalue = stats.mannwhitneyu(beforeTestConversion['conversion'].values, afterTestConversion['conversion'].values)\n",
    "print \"Критерий Манна — Уитни\", pvalue"
   ]
  },
  {
   "cell_type": "markdown",
   "metadata": {},
   "source": [
    "Чем меньше значение критерия, тем вероятнее, что различия между значениями параметра в выборках достоверны."
   ]
  },
  {
   "cell_type": "markdown",
   "metadata": {},
   "source": [
    "Чтобы удостовериться в полученных данных проведем коррекцию на множественное тестирование"
   ]
  },
  {
   "cell_type": "markdown",
   "metadata": {},
   "source": [
    "#### Поправка Холма-Бонферрони"
   ]
  },
  {
   "cell_type": "markdown",
   "metadata": {},
   "source": [
    "Сделаем поправку Холма-Бонферрони на множественную проверку с α = 0.01"
   ]
  },
  {
   "cell_type": "code",
   "execution_count": 37,
   "metadata": {},
   "outputs": [
    {
     "name": "stdout",
     "output_type": "stream",
     "text": [
      "[ True]\n",
      "[0.00861121]\n"
     ]
    }
   ],
   "source": [
    "reject, p_corrected, a1, a2 = multipletests(pvalue, alpha = 0.01, method = 'bonferroni')\n",
    "print(reject)\n",
    "print(p_corrected)"
   ]
  },
  {
   "cell_type": "markdown",
   "metadata": {},
   "source": [
    "Видим что вероятность появления ошибки достаточно мала"
   ]
  },
  {
   "cell_type": "markdown",
   "metadata": {},
   "source": [
    "При анализе данных были проделаны следующие шаги:\n",
    "1. Визуальная оценка полученных данных\n",
    "2. Отбор необходимых и формирование пригодных для анализа данных\n",
    "3. Построение выводов об изменениях после внедрения новой формы оформления заказа\n",
    "4. Оценка значимости полученных данных"
   ]
  },
  {
   "cell_type": "markdown",
   "metadata": {},
   "source": [
    "В итоге видим, что изменния в конверсии статистически значимы. Значит на основании данного анализа можно утверждать:\n",
    "* <b>Конверсия после внедрения одностраничной формы оформления заказа выросла примерно на 3 процента</b>"
   ]
  }
 ],
 "metadata": {
  "kernelspec": {
   "display_name": "Python 3",
   "language": "python",
   "name": "python3"
  },
  "language_info": {
   "codemirror_mode": {
    "name": "ipython",
    "version": 3
   },
   "file_extension": ".py",
   "mimetype": "text/x-python",
   "name": "python",
   "nbconvert_exporter": "python",
   "pygments_lexer": "ipython3",
   "version": "3.7.3"
  }
 },
 "nbformat": 4,
 "nbformat_minor": 2
}
