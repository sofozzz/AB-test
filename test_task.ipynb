{
 "cells": [
  {
   "cell_type": "markdown",
   "metadata": {},
   "source": [
    "# Тестовое задание"
   ]
  },
  {
   "cell_type": "markdown",
   "metadata": {},
   "source": [
    "<b>Условие:</b>\n",
    "    В апреле - мае 2017 года внедрялась новая форма оформления заказа, была осуществлена замена многостраничной формы на одностраничную. Переход проходил поэтапно, через череду А/В тестов и откатов к прежним версиям для фиксации критических багов. К концу мая одностраничная форма была внедрена окончательно. На базе имеющихся данных определить изменилась ли конверсия в связи с этим переходом. Если эффект был, то дать оценку. Выводы с обоснованием предоставить в виде аналитической записки лидеру проекта. Никаких ограничений по форме представления информации нет.\n"
   ]
  },
  {
   "cell_type": "markdown",
   "metadata": {},
   "source": [
    "<b>Вопрос:</b>\n",
    "    Изменилась ли конверсия в связи с переходом на однострунную форму оформления заказа?"
   ]
  },
  {
   "cell_type": "code",
   "execution_count": 1,
   "metadata": {},
   "outputs": [],
   "source": [
    "# Импортируем необходимые библиотеки для анализа\n",
    "import pandas as pd\n",
    "from datetime import date, timedelta, datetime\n",
    "import numpy as np\n",
    "from scipy import stats\n",
    "from statsmodels.sandbox.stats.multicomp import multipletests\n",
    "import matplotlib.pyplot as plt"
   ]
  },
  {
   "cell_type": "code",
   "execution_count": 2,
   "metadata": {},
   "outputs": [
    {
     "name": "stderr",
     "output_type": "stream",
     "text": [
      "/home/sofos/anaconda2/lib/python2.7/site-packages/IPython/core/interactiveshell.py:2718: DtypeWarning: Columns (6) have mixed types. Specify dtype option on import or set low_memory=False.\n",
      "  interactivity=interactivity, compiler=compiler, result=result)\n"
     ]
    }
   ],
   "source": [
    "# Загружаем данные для анализа в формате DataFrame\n",
    "data = pd.read_csv('task_for_candidat.csv', parse_dates=['date'])"
   ]
  },
  {
   "cell_type": "markdown",
   "metadata": {},
   "source": [
    "## Первичный визуальный анализ данных"
   ]
  },
  {
   "cell_type": "markdown",
   "metadata": {},
   "source": [
    "Для начала проведем первичный анализ имеющихся данных:"
   ]
  },
  {
   "cell_type": "code",
   "execution_count": 3,
   "metadata": {},
   "outputs": [
    {
     "data": {
      "text/html": [
       "<div>\n",
       "<style scoped>\n",
       "    .dataframe tbody tr th:only-of-type {\n",
       "        vertical-align: middle;\n",
       "    }\n",
       "\n",
       "    .dataframe tbody tr th {\n",
       "        vertical-align: top;\n",
       "    }\n",
       "\n",
       "    .dataframe thead th {\n",
       "        text-align: right;\n",
       "    }\n",
       "</style>\n",
       "<table border=\"1\" class=\"dataframe\">\n",
       "  <thead>\n",
       "    <tr style=\"text-align: right;\">\n",
       "      <th></th>\n",
       "      <th>date</th>\n",
       "      <th>deviceCategory</th>\n",
       "      <th>fullVisitorId</th>\n",
       "      <th>visitNumber</th>\n",
       "      <th>channelGrouping</th>\n",
       "      <th>event</th>\n",
       "      <th>action</th>\n",
       "    </tr>\n",
       "  </thead>\n",
       "  <tbody>\n",
       "    <tr>\n",
       "      <th>0</th>\n",
       "      <td>2017-09-28</td>\n",
       "      <td>mobile</td>\n",
       "      <td>1.979367e+18</td>\n",
       "      <td>2</td>\n",
       "      <td>SEO - Other</td>\n",
       "      <td>CartAdd</td>\n",
       "      <td>Click</td>\n",
       "    </tr>\n",
       "    <tr>\n",
       "      <th>1</th>\n",
       "      <td>2017-06-06</td>\n",
       "      <td>mobile</td>\n",
       "      <td>1.492087e+18</td>\n",
       "      <td>2</td>\n",
       "      <td>SEO - Other</td>\n",
       "      <td>CartAdd</td>\n",
       "      <td>Click</td>\n",
       "    </tr>\n",
       "    <tr>\n",
       "      <th>2</th>\n",
       "      <td>2017-01-14</td>\n",
       "      <td>mobile</td>\n",
       "      <td>9.100021e+18</td>\n",
       "      <td>1</td>\n",
       "      <td>SEO - Other</td>\n",
       "      <td>CartAdd</td>\n",
       "      <td>Click</td>\n",
       "    </tr>\n",
       "    <tr>\n",
       "      <th>3</th>\n",
       "      <td>2017-04-24</td>\n",
       "      <td>mobile</td>\n",
       "      <td>7.257037e+18</td>\n",
       "      <td>1</td>\n",
       "      <td>SEO - Other</td>\n",
       "      <td>CartAdd</td>\n",
       "      <td>Click</td>\n",
       "    </tr>\n",
       "    <tr>\n",
       "      <th>4</th>\n",
       "      <td>2017-03-13</td>\n",
       "      <td>mobile</td>\n",
       "      <td>3.395570e+18</td>\n",
       "      <td>52</td>\n",
       "      <td>Retargeting - Yandex</td>\n",
       "      <td>CartAdd</td>\n",
       "      <td>Click</td>\n",
       "    </tr>\n",
       "    <tr>\n",
       "      <th>5</th>\n",
       "      <td>2017-09-15</td>\n",
       "      <td>mobile</td>\n",
       "      <td>7.331431e+18</td>\n",
       "      <td>1</td>\n",
       "      <td>SEO - Other</td>\n",
       "      <td>CartAdd</td>\n",
       "      <td>Click</td>\n",
       "    </tr>\n",
       "    <tr>\n",
       "      <th>6</th>\n",
       "      <td>2017-01-12</td>\n",
       "      <td>mobile</td>\n",
       "      <td>2.061092e+18</td>\n",
       "      <td>7</td>\n",
       "      <td>SEO - Other</td>\n",
       "      <td>CartAdd</td>\n",
       "      <td>Click</td>\n",
       "    </tr>\n",
       "    <tr>\n",
       "      <th>7</th>\n",
       "      <td>2018-02-15</td>\n",
       "      <td>mobile</td>\n",
       "      <td>3.007465e+18</td>\n",
       "      <td>2</td>\n",
       "      <td>SEO - Other</td>\n",
       "      <td>CartAdd</td>\n",
       "      <td>Click</td>\n",
       "    </tr>\n",
       "    <tr>\n",
       "      <th>8</th>\n",
       "      <td>2017-01-26</td>\n",
       "      <td>mobile</td>\n",
       "      <td>5.765430e+18</td>\n",
       "      <td>516</td>\n",
       "      <td>Retargeting - Yandex</td>\n",
       "      <td>CartAdd</td>\n",
       "      <td>Click</td>\n",
       "    </tr>\n",
       "    <tr>\n",
       "      <th>9</th>\n",
       "      <td>2017-06-06</td>\n",
       "      <td>mobile</td>\n",
       "      <td>1.492087e+18</td>\n",
       "      <td>2</td>\n",
       "      <td>SEO - Other</td>\n",
       "      <td>CartAdd</td>\n",
       "      <td>Click</td>\n",
       "    </tr>\n",
       "  </tbody>\n",
       "</table>\n",
       "</div>"
      ],
      "text/plain": [
       "        date deviceCategory  fullVisitorId  visitNumber       channelGrouping  \\\n",
       "0 2017-09-28         mobile   1.979367e+18            2           SEO - Other   \n",
       "1 2017-06-06         mobile   1.492087e+18            2           SEO - Other   \n",
       "2 2017-01-14         mobile   9.100021e+18            1           SEO - Other   \n",
       "3 2017-04-24         mobile   7.257037e+18            1           SEO - Other   \n",
       "4 2017-03-13         mobile   3.395570e+18           52  Retargeting - Yandex   \n",
       "5 2017-09-15         mobile   7.331431e+18            1           SEO - Other   \n",
       "6 2017-01-12         mobile   2.061092e+18            7           SEO - Other   \n",
       "7 2018-02-15         mobile   3.007465e+18            2           SEO - Other   \n",
       "8 2017-01-26         mobile   5.765430e+18          516  Retargeting - Yandex   \n",
       "9 2017-06-06         mobile   1.492087e+18            2           SEO - Other   \n",
       "\n",
       "     event action  \n",
       "0  CartAdd  Click  \n",
       "1  CartAdd  Click  \n",
       "2  CartAdd  Click  \n",
       "3  CartAdd  Click  \n",
       "4  CartAdd  Click  \n",
       "5  CartAdd  Click  \n",
       "6  CartAdd  Click  \n",
       "7  CartAdd  Click  \n",
       "8  CartAdd  Click  \n",
       "9  CartAdd  Click  "
      ]
     },
     "execution_count": 3,
     "metadata": {},
     "output_type": "execute_result"
    }
   ],
   "source": [
    "# Первые десять строк\n",
    "data[:10]"
   ]
  },
  {
   "cell_type": "code",
   "execution_count": 4,
   "metadata": {},
   "outputs": [
    {
     "data": {
      "text/html": [
       "<div>\n",
       "<style scoped>\n",
       "    .dataframe tbody tr th:only-of-type {\n",
       "        vertical-align: middle;\n",
       "    }\n",
       "\n",
       "    .dataframe tbody tr th {\n",
       "        vertical-align: top;\n",
       "    }\n",
       "\n",
       "    .dataframe thead th {\n",
       "        text-align: right;\n",
       "    }\n",
       "</style>\n",
       "<table border=\"1\" class=\"dataframe\">\n",
       "  <thead>\n",
       "    <tr style=\"text-align: right;\">\n",
       "      <th></th>\n",
       "      <th>date</th>\n",
       "      <th>deviceCategory</th>\n",
       "      <th>fullVisitorId</th>\n",
       "      <th>visitNumber</th>\n",
       "      <th>channelGrouping</th>\n",
       "      <th>event</th>\n",
       "      <th>action</th>\n",
       "    </tr>\n",
       "  </thead>\n",
       "  <tbody>\n",
       "    <tr>\n",
       "      <th>7602633</th>\n",
       "      <td>2017-09-14</td>\n",
       "      <td>desktop</td>\n",
       "      <td>1.322919e+18</td>\n",
       "      <td>134</td>\n",
       "      <td>Context - Yandex Not Brand</td>\n",
       "      <td>Ecommerce</td>\n",
       "      <td>Checkout</td>\n",
       "    </tr>\n",
       "    <tr>\n",
       "      <th>7602634</th>\n",
       "      <td>2017-06-24</td>\n",
       "      <td>desktop</td>\n",
       "      <td>4.821787e+18</td>\n",
       "      <td>4</td>\n",
       "      <td>Context - Yandex Not Brand</td>\n",
       "      <td>Ecommerce</td>\n",
       "      <td>Checkout</td>\n",
       "    </tr>\n",
       "    <tr>\n",
       "      <th>7602635</th>\n",
       "      <td>2017-12-15</td>\n",
       "      <td>desktop</td>\n",
       "      <td>4.126302e+18</td>\n",
       "      <td>92</td>\n",
       "      <td>Context - Yandex Not Brand</td>\n",
       "      <td>Ecommerce</td>\n",
       "      <td>Checkout</td>\n",
       "    </tr>\n",
       "    <tr>\n",
       "      <th>7602636</th>\n",
       "      <td>2017-08-29</td>\n",
       "      <td>desktop</td>\n",
       "      <td>4.158930e+18</td>\n",
       "      <td>27</td>\n",
       "      <td>Context - Yandex Not Brand</td>\n",
       "      <td>Ecommerce</td>\n",
       "      <td>Checkout</td>\n",
       "    </tr>\n",
       "    <tr>\n",
       "      <th>7602637</th>\n",
       "      <td>2017-11-18</td>\n",
       "      <td>desktop</td>\n",
       "      <td>4.458281e+18</td>\n",
       "      <td>1</td>\n",
       "      <td>Context - Yandex Not Brand</td>\n",
       "      <td>Ecommerce</td>\n",
       "      <td>Checkout</td>\n",
       "    </tr>\n",
       "    <tr>\n",
       "      <th>7602638</th>\n",
       "      <td>2018-03-21</td>\n",
       "      <td>desktop</td>\n",
       "      <td>7.782289e+18</td>\n",
       "      <td>220</td>\n",
       "      <td>Context - Yandex Not Brand</td>\n",
       "      <td>Ecommerce</td>\n",
       "      <td>Checkout</td>\n",
       "    </tr>\n",
       "    <tr>\n",
       "      <th>7602639</th>\n",
       "      <td>2017-08-04</td>\n",
       "      <td>desktop</td>\n",
       "      <td>5.513994e+18</td>\n",
       "      <td>121</td>\n",
       "      <td>Context - Yandex Not Brand</td>\n",
       "      <td>Ecommerce</td>\n",
       "      <td>Checkout</td>\n",
       "    </tr>\n",
       "    <tr>\n",
       "      <th>7602640</th>\n",
       "      <td>2017-06-03</td>\n",
       "      <td>desktop</td>\n",
       "      <td>6.992842e+18</td>\n",
       "      <td>2</td>\n",
       "      <td>Context - Yandex Not Brand</td>\n",
       "      <td>Ecommerce</td>\n",
       "      <td>Checkout</td>\n",
       "    </tr>\n",
       "    <tr>\n",
       "      <th>7602641</th>\n",
       "      <td>2017-07-04</td>\n",
       "      <td>desktop</td>\n",
       "      <td>7.494853e+18</td>\n",
       "      <td>3</td>\n",
       "      <td>Context - Yandex Not Brand</td>\n",
       "      <td>Ecommerce</td>\n",
       "      <td>Checkout</td>\n",
       "    </tr>\n",
       "    <tr>\n",
       "      <th>7602642</th>\n",
       "      <td>2017-09-26</td>\n",
       "      <td>desktop</td>\n",
       "      <td>6.794031e+18</td>\n",
       "      <td>16</td>\n",
       "      <td>Context - Yandex Not Brand</td>\n",
       "      <td>Ecommerce</td>\n",
       "      <td>Checkout</td>\n",
       "    </tr>\n",
       "  </tbody>\n",
       "</table>\n",
       "</div>"
      ],
      "text/plain": [
       "              date deviceCategory  fullVisitorId  visitNumber  \\\n",
       "7602633 2017-09-14        desktop   1.322919e+18          134   \n",
       "7602634 2017-06-24        desktop   4.821787e+18            4   \n",
       "7602635 2017-12-15        desktop   4.126302e+18           92   \n",
       "7602636 2017-08-29        desktop   4.158930e+18           27   \n",
       "7602637 2017-11-18        desktop   4.458281e+18            1   \n",
       "7602638 2018-03-21        desktop   7.782289e+18          220   \n",
       "7602639 2017-08-04        desktop   5.513994e+18          121   \n",
       "7602640 2017-06-03        desktop   6.992842e+18            2   \n",
       "7602641 2017-07-04        desktop   7.494853e+18            3   \n",
       "7602642 2017-09-26        desktop   6.794031e+18           16   \n",
       "\n",
       "                    channelGrouping      event    action  \n",
       "7602633  Context - Yandex Not Brand  Ecommerce  Checkout  \n",
       "7602634  Context - Yandex Not Brand  Ecommerce  Checkout  \n",
       "7602635  Context - Yandex Not Brand  Ecommerce  Checkout  \n",
       "7602636  Context - Yandex Not Brand  Ecommerce  Checkout  \n",
       "7602637  Context - Yandex Not Brand  Ecommerce  Checkout  \n",
       "7602638  Context - Yandex Not Brand  Ecommerce  Checkout  \n",
       "7602639  Context - Yandex Not Brand  Ecommerce  Checkout  \n",
       "7602640  Context - Yandex Not Brand  Ecommerce  Checkout  \n",
       "7602641  Context - Yandex Not Brand  Ecommerce  Checkout  \n",
       "7602642  Context - Yandex Not Brand  Ecommerce  Checkout  "
      ]
     },
     "execution_count": 4,
     "metadata": {},
     "output_type": "execute_result"
    }
   ],
   "source": [
    "# Последние десять строк\n",
    "data[-10:]"
   ]
  },
  {
   "cell_type": "markdown",
   "metadata": {},
   "source": [
    "Не все данные необходимы для анализа, поэтому удалим лишние, а именно:\n",
    "* fullVisitorId\n",
    "* deviceCategory\n",
    "* visitNumber\n",
    "* channelGrouping"
   ]
  },
  {
   "cell_type": "code",
   "execution_count": 5,
   "metadata": {},
   "outputs": [],
   "source": [
    "# Удалим не нужные для анализа столбцы channelGrouping, visitNumber, deviceCategory, fullVisitorId\n",
    "data.drop('fullVisitorId', 1,  inplace=True)\n",
    "data.drop('channelGrouping', 1,  inplace=True)\n",
    "data.drop('visitNumber', 1, inplace=True)\n",
    "data.drop('deviceCategory', 1, inplace=True)"
   ]
  },
  {
   "cell_type": "markdown",
   "metadata": {},
   "source": [
    "Чтобы определить за какой период времени данные мы имеем, отсортируем их по дате"
   ]
  },
  {
   "cell_type": "code",
   "execution_count": 6,
   "metadata": {},
   "outputs": [],
   "source": [
    "# Отсортируем по дате\n",
    "data.sort_values(by='date', inplace=True)"
   ]
  },
  {
   "cell_type": "markdown",
   "metadata": {},
   "source": [
    "Снова посмотрим на первые и последние строчки"
   ]
  },
  {
   "cell_type": "code",
   "execution_count": 7,
   "metadata": {},
   "outputs": [
    {
     "data": {
      "text/html": [
       "<div>\n",
       "<style scoped>\n",
       "    .dataframe tbody tr th:only-of-type {\n",
       "        vertical-align: middle;\n",
       "    }\n",
       "\n",
       "    .dataframe tbody tr th {\n",
       "        vertical-align: top;\n",
       "    }\n",
       "\n",
       "    .dataframe thead th {\n",
       "        text-align: right;\n",
       "    }\n",
       "</style>\n",
       "<table border=\"1\" class=\"dataframe\">\n",
       "  <thead>\n",
       "    <tr style=\"text-align: right;\">\n",
       "      <th></th>\n",
       "      <th>date</th>\n",
       "      <th>event</th>\n",
       "      <th>action</th>\n",
       "    </tr>\n",
       "  </thead>\n",
       "  <tbody>\n",
       "    <tr>\n",
       "      <th>2661853</th>\n",
       "      <td>2017-01-01</td>\n",
       "      <td>landing</td>\n",
       "      <td>NaN</td>\n",
       "    </tr>\n",
       "    <tr>\n",
       "      <th>5082066</th>\n",
       "      <td>2017-01-01</td>\n",
       "      <td>CartView</td>\n",
       "      <td>Click</td>\n",
       "    </tr>\n",
       "    <tr>\n",
       "      <th>5082140</th>\n",
       "      <td>2017-01-01</td>\n",
       "      <td>CartView</td>\n",
       "      <td>Click</td>\n",
       "    </tr>\n",
       "    <tr>\n",
       "      <th>370753</th>\n",
       "      <td>2017-01-01</td>\n",
       "      <td>CartAdd</td>\n",
       "      <td>Click</td>\n",
       "    </tr>\n",
       "    <tr>\n",
       "      <th>7395395</th>\n",
       "      <td>2017-01-01</td>\n",
       "      <td>Ecommerce</td>\n",
       "      <td>Checkout</td>\n",
       "    </tr>\n",
       "  </tbody>\n",
       "</table>\n",
       "</div>"
      ],
      "text/plain": [
       "              date      event    action\n",
       "2661853 2017-01-01    landing       NaN\n",
       "5082066 2017-01-01   CartView     Click\n",
       "5082140 2017-01-01   CartView     Click\n",
       "370753  2017-01-01    CartAdd     Click\n",
       "7395395 2017-01-01  Ecommerce  Checkout"
      ]
     },
     "execution_count": 7,
     "metadata": {},
     "output_type": "execute_result"
    }
   ],
   "source": [
    "# Первые пять строк\n",
    "data[:5]"
   ]
  },
  {
   "cell_type": "code",
   "execution_count": 8,
   "metadata": {
    "scrolled": true
   },
   "outputs": [
    {
     "data": {
      "text/html": [
       "<div>\n",
       "<style scoped>\n",
       "    .dataframe tbody tr th:only-of-type {\n",
       "        vertical-align: middle;\n",
       "    }\n",
       "\n",
       "    .dataframe tbody tr th {\n",
       "        vertical-align: top;\n",
       "    }\n",
       "\n",
       "    .dataframe thead th {\n",
       "        text-align: right;\n",
       "    }\n",
       "</style>\n",
       "<table border=\"1\" class=\"dataframe\">\n",
       "  <thead>\n",
       "    <tr style=\"text-align: right;\">\n",
       "      <th></th>\n",
       "      <th>date</th>\n",
       "      <th>event</th>\n",
       "      <th>action</th>\n",
       "    </tr>\n",
       "  </thead>\n",
       "  <tbody>\n",
       "    <tr>\n",
       "      <th>5369019</th>\n",
       "      <td>2018-03-31</td>\n",
       "      <td>CartView</td>\n",
       "      <td>Click</td>\n",
       "    </tr>\n",
       "    <tr>\n",
       "      <th>2512926</th>\n",
       "      <td>2018-03-31</td>\n",
       "      <td>landing</td>\n",
       "      <td>NaN</td>\n",
       "    </tr>\n",
       "    <tr>\n",
       "      <th>5169810</th>\n",
       "      <td>2018-03-31</td>\n",
       "      <td>CartView</td>\n",
       "      <td>Click</td>\n",
       "    </tr>\n",
       "    <tr>\n",
       "      <th>5049550</th>\n",
       "      <td>2018-03-31</td>\n",
       "      <td>CartView</td>\n",
       "      <td>Click</td>\n",
       "    </tr>\n",
       "    <tr>\n",
       "      <th>5796779</th>\n",
       "      <td>2018-03-31</td>\n",
       "      <td>Ecommerce</td>\n",
       "      <td>Checkout</td>\n",
       "    </tr>\n",
       "  </tbody>\n",
       "</table>\n",
       "</div>"
      ],
      "text/plain": [
       "              date      event    action\n",
       "5369019 2018-03-31   CartView     Click\n",
       "2512926 2018-03-31    landing       NaN\n",
       "5169810 2018-03-31   CartView     Click\n",
       "5049550 2018-03-31   CartView     Click\n",
       "5796779 2018-03-31  Ecommerce  Checkout"
      ]
     },
     "execution_count": 8,
     "metadata": {},
     "output_type": "execute_result"
    }
   ],
   "source": [
    "# Последние пять строк\n",
    "data[-5:]"
   ]
  },
  {
   "cell_type": "markdown",
   "metadata": {},
   "source": [
    "Видим что данные представлены за период с 1 декабря 2017 годя по 31 марта 2018 года включительно."
   ]
  },
  {
   "cell_type": "markdown",
   "metadata": {},
   "source": [
    "Нас интересуют значения в категория \"event\" и \"action\". Поэтому посмотрим на количественный состав значений в этих категориях"
   ]
  },
  {
   "cell_type": "code",
   "execution_count": 9,
   "metadata": {},
   "outputs": [],
   "source": [
    "events = data['event'].value_counts()\n",
    "actions = data['action'].value_counts()"
   ]
  },
  {
   "cell_type": "code",
   "execution_count": 10,
   "metadata": {
    "scrolled": true
   },
   "outputs": [
    {
     "data": {
      "text/plain": [
       "<matplotlib.axes._subplots.AxesSubplot at 0x7f4cb22f2650>"
      ]
     },
     "execution_count": 10,
     "metadata": {},
     "output_type": "execute_result"
    },
    {
     "data": {
      "image/png": "[encoded data removed]",
      "text/plain": [
       "<matplotlib.figure.Figure at 0x7f4ce1441410>"
      ]
     },
     "metadata": {},
     "output_type": "display_data"
    }
   ],
   "source": [
    "events.plot(kind='bar')"
   ]
  },
  {
   "cell_type": "code",
   "execution_count": 11,
   "metadata": {},
   "outputs": [
    {
     "data": {
      "text/plain": [
       "<matplotlib.axes._subplots.AxesSubplot at 0x7f4cb42c37d0>"
      ]
     },
     "execution_count": 11,
     "metadata": {},
     "output_type": "execute_result"
    },
    {
     "data": {
      "image/png": "[encoded data removed]",
      "text/plain": [
       "<matplotlib.figure.Figure at 0x7f4cb233aad0>"
      ]
     },
     "metadata": {},
     "output_type": "display_data"
    }
   ],
   "source": [
    "events.plot(kind='pie', autopct='%.2f')"
   ]
  },
  {
   "cell_type": "code",
   "execution_count": 12,
   "metadata": {},
   "outputs": [
    {
     "data": {
      "text/plain": [
       "<matplotlib.axes._subplots.AxesSubplot at 0x7f4cb2462f50>"
      ]
     },
     "execution_count": 12,
     "metadata": {},
     "output_type": "execute_result"
    },
    {
     "data": {
      "image/png": "[encoded data removed]",
      "text/plain": [
       "<matplotlib.figure.Figure at 0x7f4cb2382e50>"
      ]
     },
     "metadata": {},
     "output_type": "display_data"
    }
   ],
   "source": [
    "actions.plot(kind='bar')"
   ]
  },
  {
   "cell_type": "code",
   "execution_count": 13,
   "metadata": {},
   "outputs": [
    {
     "data": {
      "text/plain": [
       "<matplotlib.axes._subplots.AxesSubplot at 0x7f4cb2259c10>"
      ]
     },
     "execution_count": 13,
     "metadata": {},
     "output_type": "execute_result"
    },
    {
     "data": {
      "image/png": "[encoded data removed]",
      "text/plain": [
       "<matplotlib.figure.Figure at 0x7f4cb241f0d0>"
      ]
     },
     "metadata": {},
     "output_type": "display_data"
    }
   ],
   "source": [
    "actions.plot(kind='pie', autopct='%.2f')"
   ]
  },
  {
   "cell_type": "markdown",
   "metadata": {},
   "source": [
    "#### Видим следущие значения в категориях:\n",
    "<b>События:</b>\n",
    "* landing - переход на сайт\n",
    "* cartAdd - добавить в корзину\n",
    "* cartView - переход в корзину\n",
    "\n",
    "<b>Действия:</b>\n",
    "* click - действие пользователя\n",
    "* checkout - оформление заказа\n",
    "* purchase_order_done - заказ на покупку"
   ]
  },
  {
   "cell_type": "markdown",
   "metadata": {},
   "source": [
    "Конверсию будем попределять как соотношение количества заказов к числу переходов на сайт в процентах т.е.\n",
    "\n",
    "<b>(\"purchase_order_done\"/\"landing\")*100 - конверсия</b>"
   ]
  },
  {
   "cell_type": "markdown",
   "metadata": {},
   "source": [
    "## Новые данные для анализа"
   ]
  },
  {
   "cell_type": "markdown",
   "metadata": {},
   "source": [
    "<b>Создадим следующие данные для анализа:</b>\n",
    "* Словарь по дням, где для каждого дня запишем количество каждого из событий\n",
    "* Словарь по дням, где для каждого дня запишем количество каждого из действий\n",
    "* Словарь по дням, где для каждого дня запишем значение конверсии\n",
    "\n",
    "Все словари для более удобной работы представим в формате DataFrame"
   ]
  },
  {
   "cell_type": "code",
   "execution_count": 14,
   "metadata": {},
   "outputs": [],
   "source": [
    "# Частотный словарь по дням для действий\n",
    "actions_dict = {}\n",
    "for index in range(len(data)):\n",
    "    if data.loc[index, 'date'] not in actions_dict:\n",
    "        actions_dict[data.loc[index, 'date']] = [0, 0, 0]\n",
    "    if data.loc[index, 'action'] == 'Click':\n",
    "        actions_dict[data.loc[index, 'date']][0] += 1\n",
    "    elif data.loc[index, 'action'] == 'Checkout':\n",
    "        actions_dict[data.loc[index, 'date']][1] += 1\n",
    "    elif data.loc[index, 'action'] == 'purchase_order_done':\n",
    "        actions_dict[data.loc[index, 'date']][2] += 1"
   ]
  },
  {
   "cell_type": "code",
   "execution_count": 15,
   "metadata": {},
   "outputs": [],
   "source": [
    "# Преобразуем словарь в DataFrame с удобным обозначение столбцов\n",
    "actions_df = pd.DataFrame.from_dict(actions_dict, orient='index').reset_index()\n",
    "actions_df.rename(columns={'index': 'date', 0: 'click', 1: 'checkout', 2: 'done'}, inplace=True)"
   ]
  },
  {
   "cell_type": "code",
   "execution_count": 16,
   "metadata": {},
   "outputs": [],
   "source": [
    "# Частотный словарь по дням для событий\n",
    "events_dict = {}\n",
    "for index in range(len(data)):\n",
    "    if data.loc[index, 'date'] not in events_dict:\n",
    "        events_dict[data.loc[index, 'date']] = [0, 0, 0, 0]\n",
    "    if data.loc[index, 'event'] == 'landing':\n",
    "        events_dict[data.loc[index, 'date']][0] += 1\n",
    "    elif data.loc[index, 'event'] == 'Ecommerce':\n",
    "        events_dict[data.loc[index, 'date']][1] += 1\n",
    "    elif data.loc[index, 'event'] == 'CartAdd':\n",
    "        events_dict[data.loc[index, 'date']][2] += 1\n",
    "    elif data.loc[index, 'event'] == 'CartView':\n",
    "        events_dict[data.loc[index, 'date']][3] += 1"
   ]
  },
  {
   "cell_type": "code",
   "execution_count": 17,
   "metadata": {},
   "outputs": [],
   "source": [
    "# Преобразуем словарь в DataFrame с удобным обозначение столбцов\n",
    "events_df = pd.DataFrame.from_dict(events_dict, orient='index').reset_index()\n",
    "events_df.rename(columns={'index': 'date', 0: 'landing', 1: 'ecommerce', 2: 'cartView', 3: 'cartAdd'}, inplace=True)"
   ]
  },
  {
   "cell_type": "code",
   "execution_count": 18,
   "metadata": {},
   "outputs": [],
   "source": [
    "# Словарь размера конверсии по дням\n",
    "conversion_dict = {}\n",
    "for index in range(len(events_df)):\n",
    "    conversion_dict[events_df.loc[index, 'date']] = (float(actions_df.loc[index, 'done'])/events_df.loc[index, 'landing'])*100"
   ]
  },
  {
   "cell_type": "code",
   "execution_count": 19,
   "metadata": {},
   "outputs": [],
   "source": [
    "# Преобразуем словарь в DataFrame с удобным обозначение столбцов\n",
    "conversion_df = pd.DataFrame.from_dict(conversion_dict, orient='index').reset_index()\n",
    "conversion_df.rename(columns={'index': 'date', 0: 'conversion'}, inplace=True)"
   ]
  },
  {
   "cell_type": "markdown",
   "metadata": {},
   "source": [
    "Посмотрим как выглядят и как распределены необходимые нам данные с конверсией по дням"
   ]
  },
  {
   "cell_type": "code",
   "execution_count": 20,
   "metadata": {},
   "outputs": [
    {
     "data": {
      "text/html": [
       "<div>\n",
       "<style scoped>\n",
       "    .dataframe tbody tr th:only-of-type {\n",
       "        vertical-align: middle;\n",
       "    }\n",
       "\n",
       "    .dataframe tbody tr th {\n",
       "        vertical-align: top;\n",
       "    }\n",
       "\n",
       "    .dataframe thead th {\n",
       "        text-align: right;\n",
       "    }\n",
       "</style>\n",
       "<table border=\"1\" class=\"dataframe\">\n",
       "  <thead>\n",
       "    <tr style=\"text-align: right;\">\n",
       "      <th></th>\n",
       "      <th>date</th>\n",
       "      <th>conversion</th>\n",
       "    </tr>\n",
       "  </thead>\n",
       "  <tbody>\n",
       "    <tr>\n",
       "      <th>0</th>\n",
       "      <td>2017-07-11</td>\n",
       "      <td>1.817673</td>\n",
       "    </tr>\n",
       "    <tr>\n",
       "      <th>1</th>\n",
       "      <td>2018-01-11</td>\n",
       "      <td>1.822863</td>\n",
       "    </tr>\n",
       "    <tr>\n",
       "      <th>2</th>\n",
       "      <td>2017-02-15</td>\n",
       "      <td>2.319098</td>\n",
       "    </tr>\n",
       "    <tr>\n",
       "      <th>3</th>\n",
       "      <td>2017-11-05</td>\n",
       "      <td>1.523784</td>\n",
       "    </tr>\n",
       "    <tr>\n",
       "      <th>4</th>\n",
       "      <td>2017-04-23</td>\n",
       "      <td>1.697037</td>\n",
       "    </tr>\n",
       "  </tbody>\n",
       "</table>\n",
       "</div>"
      ],
      "text/plain": [
       "        date  conversion\n",
       "0 2017-07-11    1.817673\n",
       "1 2018-01-11    1.822863\n",
       "2 2017-02-15    2.319098\n",
       "3 2017-11-05    1.523784\n",
       "4 2017-04-23    1.697037"
      ]
     },
     "execution_count": 20,
     "metadata": {},
     "output_type": "execute_result"
    }
   ],
   "source": [
    "conversion_df.head()"
   ]
  },
  {
   "cell_type": "code",
   "execution_count": 21,
   "metadata": {},
   "outputs": [
    {
     "data": {
      "text/plain": [
       "<matplotlib.axes._subplots.AxesSubplot at 0x7f4ca2914990>"
      ]
     },
     "execution_count": 21,
     "metadata": {},
     "output_type": "execute_result"
    },
    {
     "data": {
      "image/png": "[encoded data removed]",
      "text/plain": [
       "<matplotlib.figure.Figure at 0x7f4ca28e48d0>"
      ]
     },
     "metadata": {},
     "output_type": "display_data"
    }
   ],
   "source": [
    "conversion_df['conversion'].plot(kind='hist')"
   ]
  },
  {
   "cell_type": "markdown",
   "metadata": {},
   "source": [
    "Видим по графику что интересующие нас данные по значению конверсии небольшие отклонения от нормально распределения. Для улучшения качества анализа нормализуем данные, а именно дни с конверсией менее 0.5 и более 3"
   ]
  },
  {
   "cell_type": "code",
   "execution_count": 22,
   "metadata": {},
   "outputs": [],
   "source": [
    "conversion_df.drop(conversion_df[conversion_df.conversion > 3].index, inplace=True)\n",
    "conversion_df.drop(conversion_df[conversion_df.conversion < 0.5].index, inplace=True)"
   ]
  },
  {
   "cell_type": "markdown",
   "metadata": {},
   "source": [
    "Чтобы определить насколько внедрение одностраничной формы оформления заказа повлияло на конверсии, разделим данные на три части:\n",
    "* До начала внедрения одностраничной формы оформления заказа(с 1 декабря 2017 по 31 марта 2017 года)\n",
    "* Во время внедрения и тестирования(с 1 апреля 2017 по 31 мая 2017 года)\n",
    "* После окончательного внедрения(с 1 июня 2017 по 31 марта 2018 года)"
   ]
  },
  {
   "cell_type": "markdown",
   "metadata": {},
   "source": [
    "Итого, получатся что мы имеем данные: \n",
    "* за три месяца до начала внедрения новой формы оформления заказа\n",
    "* два месяца во время внедрения и тестирования\n",
    "* семь месяцев после внедрения"
   ]
  },
  {
   "cell_type": "code",
   "execution_count": 23,
   "metadata": {},
   "outputs": [],
   "source": [
    "start = datetime(2017,4,1) # день начала внеднерия одностраничной формы\n",
    "end = datetime(2017,6,1) # день окончательного внедрения\n",
    "\n",
    "# DF событий разделенный на части до изменений, во время введения и после внесения изменений\n",
    "beforeTestEvents = events_df.drop(events_df[events_df.date >= start].index)\n",
    "timeTestEvents = events_df.drop(events_df[events_df.date < start].index)\n",
    "timeTestEvents.drop(timeTestEvents[timeTestEvents.date >= end].index, inplace=True)\n",
    "afterTestEvents = events_df.drop(events_df[events_df.date < end].index)\n",
    "\n",
    "# DF действий разделенный на части до изменений, во время введения и после внесения изменений\n",
    "beforeTestActions = actions_df.drop(actions_df[actions_df.date >= start].index)\n",
    "timeTestActions = actions_df.drop(actions_df[actions_df.date < start].index)\n",
    "timeTestActions.drop(timeTestActions[timeTestActions.date >= end].index, inplace=True)\n",
    "afterTestActions = actions_df.drop(actions_df[actions_df.date < end].index)\n",
    "\n",
    "# DF конверсии разделенный на части до изменений, во время введения и после внесения изменений\n",
    "beforeTestConversion = conversion_df.drop(conversion_df[conversion_df.date >= start].index)\n",
    "timeTestConversion = conversion_df.drop(conversion_df[conversion_df.date < start].index)\n",
    "timeTestConversion.drop(timeTestConversion[timeTestConversion.date >= end].index, inplace=True)\n",
    "afterTestConversion = conversion_df.drop(conversion_df[conversion_df.date < end].index)"
   ]
  },
  {
   "cell_type": "code",
   "execution_count": 24,
   "metadata": {},
   "outputs": [
    {
     "data": {
      "text/html": [
       "<div>\n",
       "<style scoped>\n",
       "    .dataframe tbody tr th:only-of-type {\n",
       "        vertical-align: middle;\n",
       "    }\n",
       "\n",
       "    .dataframe tbody tr th {\n",
       "        vertical-align: top;\n",
       "    }\n",
       "\n",
       "    .dataframe thead th {\n",
       "        text-align: right;\n",
       "    }\n",
       "</style>\n",
       "<table border=\"1\" class=\"dataframe\">\n",
       "  <thead>\n",
       "    <tr style=\"text-align: right;\">\n",
       "      <th></th>\n",
       "      <th>conversion</th>\n",
       "    </tr>\n",
       "  </thead>\n",
       "  <tbody>\n",
       "    <tr>\n",
       "      <th>count</th>\n",
       "      <td>89.000000</td>\n",
       "    </tr>\n",
       "    <tr>\n",
       "      <th>mean</th>\n",
       "      <td>1.808453</td>\n",
       "    </tr>\n",
       "    <tr>\n",
       "      <th>std</th>\n",
       "      <td>0.309589</td>\n",
       "    </tr>\n",
       "    <tr>\n",
       "      <th>min</th>\n",
       "      <td>0.966635</td>\n",
       "    </tr>\n",
       "    <tr>\n",
       "      <th>25%</th>\n",
       "      <td>1.613286</td>\n",
       "    </tr>\n",
       "    <tr>\n",
       "      <th>50%</th>\n",
       "      <td>1.839991</td>\n",
       "    </tr>\n",
       "    <tr>\n",
       "      <th>75%</th>\n",
       "      <td>1.965632</td>\n",
       "    </tr>\n",
       "    <tr>\n",
       "      <th>max</th>\n",
       "      <td>2.811720</td>\n",
       "    </tr>\n",
       "  </tbody>\n",
       "</table>\n",
       "</div>"
      ],
      "text/plain": [
       "       conversion\n",
       "count   89.000000\n",
       "mean     1.808453\n",
       "std      0.309589\n",
       "min      0.966635\n",
       "25%      1.613286\n",
       "50%      1.839991\n",
       "75%      1.965632\n",
       "max      2.811720"
      ]
     },
     "execution_count": 24,
     "metadata": {},
     "output_type": "execute_result"
    }
   ],
   "source": [
    "beforeTestConversion.describe()"
   ]
  },
  {
   "cell_type": "code",
   "execution_count": 25,
   "metadata": {},
   "outputs": [
    {
     "data": {
      "text/html": [
       "<div>\n",
       "<style scoped>\n",
       "    .dataframe tbody tr th:only-of-type {\n",
       "        vertical-align: middle;\n",
       "    }\n",
       "\n",
       "    .dataframe tbody tr th {\n",
       "        vertical-align: top;\n",
       "    }\n",
       "\n",
       "    .dataframe thead th {\n",
       "        text-align: right;\n",
       "    }\n",
       "</style>\n",
       "<table border=\"1\" class=\"dataframe\">\n",
       "  <thead>\n",
       "    <tr style=\"text-align: right;\">\n",
       "      <th></th>\n",
       "      <th>conversion</th>\n",
       "    </tr>\n",
       "  </thead>\n",
       "  <tbody>\n",
       "    <tr>\n",
       "      <th>count</th>\n",
       "      <td>61.000000</td>\n",
       "    </tr>\n",
       "    <tr>\n",
       "      <th>mean</th>\n",
       "      <td>1.770797</td>\n",
       "    </tr>\n",
       "    <tr>\n",
       "      <th>std</th>\n",
       "      <td>0.264911</td>\n",
       "    </tr>\n",
       "    <tr>\n",
       "      <th>min</th>\n",
       "      <td>0.877653</td>\n",
       "    </tr>\n",
       "    <tr>\n",
       "      <th>25%</th>\n",
       "      <td>1.641108</td>\n",
       "    </tr>\n",
       "    <tr>\n",
       "      <th>50%</th>\n",
       "      <td>1.778711</td>\n",
       "    </tr>\n",
       "    <tr>\n",
       "      <th>75%</th>\n",
       "      <td>1.943761</td>\n",
       "    </tr>\n",
       "    <tr>\n",
       "      <th>max</th>\n",
       "      <td>2.453444</td>\n",
       "    </tr>\n",
       "  </tbody>\n",
       "</table>\n",
       "</div>"
      ],
      "text/plain": [
       "       conversion\n",
       "count   61.000000\n",
       "mean     1.770797\n",
       "std      0.264911\n",
       "min      0.877653\n",
       "25%      1.641108\n",
       "50%      1.778711\n",
       "75%      1.943761\n",
       "max      2.453444"
      ]
     },
     "execution_count": 25,
     "metadata": {},
     "output_type": "execute_result"
    }
   ],
   "source": [
    "timeTestConversion.describe()"
   ]
  },
  {
   "cell_type": "code",
   "execution_count": 26,
   "metadata": {},
   "outputs": [
    {
     "data": {
      "text/html": [
       "<div>\n",
       "<style scoped>\n",
       "    .dataframe tbody tr th:only-of-type {\n",
       "        vertical-align: middle;\n",
       "    }\n",
       "\n",
       "    .dataframe tbody tr th {\n",
       "        vertical-align: top;\n",
       "    }\n",
       "\n",
       "    .dataframe thead th {\n",
       "        text-align: right;\n",
       "    }\n",
       "</style>\n",
       "<table border=\"1\" class=\"dataframe\">\n",
       "  <thead>\n",
       "    <tr style=\"text-align: right;\">\n",
       "      <th></th>\n",
       "      <th>conversion</th>\n",
       "    </tr>\n",
       "  </thead>\n",
       "  <tbody>\n",
       "    <tr>\n",
       "      <th>count</th>\n",
       "      <td>272.000000</td>\n",
       "    </tr>\n",
       "    <tr>\n",
       "      <th>mean</th>\n",
       "      <td>1.896606</td>\n",
       "    </tr>\n",
       "    <tr>\n",
       "      <th>std</th>\n",
       "      <td>0.311895</td>\n",
       "    </tr>\n",
       "    <tr>\n",
       "      <th>min</th>\n",
       "      <td>0.856758</td>\n",
       "    </tr>\n",
       "    <tr>\n",
       "      <th>25%</th>\n",
       "      <td>1.729396</td>\n",
       "    </tr>\n",
       "    <tr>\n",
       "      <th>50%</th>\n",
       "      <td>1.891586</td>\n",
       "    </tr>\n",
       "    <tr>\n",
       "      <th>75%</th>\n",
       "      <td>2.102213</td>\n",
       "    </tr>\n",
       "    <tr>\n",
       "      <th>max</th>\n",
       "      <td>2.707276</td>\n",
       "    </tr>\n",
       "  </tbody>\n",
       "</table>\n",
       "</div>"
      ],
      "text/plain": [
       "       conversion\n",
       "count  272.000000\n",
       "mean     1.896606\n",
       "std      0.311895\n",
       "min      0.856758\n",
       "25%      1.729396\n",
       "50%      1.891586\n",
       "75%      2.102213\n",
       "max      2.707276"
      ]
     },
     "execution_count": 26,
     "metadata": {},
     "output_type": "execute_result"
    }
   ],
   "source": [
    "afterTestConversion.describe()"
   ]
  },
  {
   "cell_type": "code",
   "execution_count": 27,
   "metadata": {},
   "outputs": [
    {
     "data": {
      "text/plain": [
       "1.8966060800280942"
      ]
     },
     "execution_count": 27,
     "metadata": {},
     "output_type": "execute_result"
    }
   ],
   "source": [
    "afterTestConversion.mean().conversion"
   ]
  },
  {
   "cell_type": "code",
   "execution_count": 28,
   "metadata": {},
   "outputs": [
    {
     "name": "stdout",
     "output_type": "stream",
     "text": [
      "Разница между средними в процентах от значения до внедрения: 3.0769392987420567\n"
     ]
    }
   ],
   "source": [
    "print \"Разница между средними в процентах от значения до внедрения:\", (afterTestConversion.mean().conversion - beforeTestConversion.median().conversion)/beforeTestConversion.median().conversion*100"
   ]
  },
  {
   "cell_type": "code",
   "execution_count": 29,
   "metadata": {},
   "outputs": [
    {
     "name": "stdout",
     "output_type": "stream",
     "text": [
      "Разница между медианами в процентах от значения до внедрения: 2.8041174991793234\n"
     ]
    }
   ],
   "source": [
    "print \"Разница между медианами в процентах от значения до внедрения:\", (afterTestConversion.median().conversion - beforeTestConversion.median().conversion)/beforeTestConversion.median().conversion*100"
   ]
  },
  {
   "cell_type": "markdown",
   "metadata": {},
   "source": [
    "По полученным данным видим что конверсия в период после внедрения одностраничной формы оформления заказа увеличилась в среднем на 3 процента. Теперь статистически проверим гипотезу о том что внедрение новой формы действительно повлияло на конверсию."
   ]
  },
  {
   "cell_type": "markdown",
   "metadata": {},
   "source": [
    "## Доверительные интервалы на основе bootstrap"
   ]
  },
  {
   "cell_type": "code",
   "execution_count": 30,
   "metadata": {},
   "outputs": [],
   "source": [
    "def get_bootstrap_samples(data, n_samples):\n",
    "    indices = np.random.randint(0, len(data), (n_samples, len(data)))\n",
    "    samples = data[indices]\n",
    "    return samples"
   ]
  },
  {
   "cell_type": "code",
   "execution_count": 31,
   "metadata": {},
   "outputs": [],
   "source": [
    "def stat_intervals(stat, alpha):\n",
    "    boundaries = np.percentile(stat, [100 * alpha / 2., 100 * (1 - alpha / 2.)])\n",
    "    return boundaries"
   ]
  },
  {
   "cell_type": "markdown",
   "metadata": {},
   "source": [
    "Построим доверительные интервалы для медиан и средних значений конверсии до внедрения и после."
   ]
  },
  {
   "cell_type": "markdown",
   "metadata": {},
   "source": [
    "#### Интервальная оценка медианы"
   ]
  },
  {
   "cell_type": "code",
   "execution_count": 32,
   "metadata": {},
   "outputs": [
    {
     "name": "stdout",
     "output_type": "stream",
     "text": [
      "95% доверительный интервал для значений медианы конверсии до внедрения: [1.74496644 1.87340335]\n",
      "95% доверительный интервал для значений медианы конверсии после внедрения: [1.83794061 1.92895779]\n"
     ]
    }
   ],
   "source": [
    "# Доверительные интервалы для медиан\n",
    "np.random.seed(0)\n",
    "\n",
    "before_median_conversion = map(np.median, get_bootstrap_samples(beforeTestConversion['conversion'].values, 500))\n",
    "after_median_conversion = map(np.median, get_bootstrap_samples(afterTestConversion['conversion'].values , 500))\n",
    "\n",
    "print \"95% доверительный интервал для значений медианы конверсии до внедрения:\", stat_intervals(before_median_conversion , 0.05)\n",
    "print \"95% доверительный интервал для значений медианы конверсии после внедрения:\", stat_intervals(after_median_conversion , 0.05)"
   ]
  },
  {
   "cell_type": "markdown",
   "metadata": {},
   "source": [
    "####  Интервальная оценка средних"
   ]
  },
  {
   "cell_type": "code",
   "execution_count": 33,
   "metadata": {},
   "outputs": [
    {
     "name": "stdout",
     "output_type": "stream",
     "text": [
      "95% доверительный интервал для значений средней конверсии до внедрения: [1.73585043 1.86264674]\n",
      "95% доверительный интервал для значений средней конверсии после внедрения: [1.85854921 1.93775623]\n"
     ]
    }
   ],
   "source": [
    "# Доверительные интервалы для средних\n",
    "np.random.seed(0)\n",
    "\n",
    "before_mean_conversion = map(np.mean, get_bootstrap_samples(beforeTestConversion['conversion'].values, 500))\n",
    "after_mean_conversion = map(np.mean, get_bootstrap_samples(afterTestConversion['conversion'].values , 500))\n",
    "\n",
    "print \"95% доверительный интервал для значений средней конверсии до внедрения:\", stat_intervals(before_mean_conversion , 0.05)\n",
    "print \"95% доверительный интервал для значений средней конверсии после внедрения:\", stat_intervals(after_mean_conversion , 0.05)"
   ]
  },
  {
   "cell_type": "markdown",
   "metadata": {},
   "source": [
    "#### Интервальная оценка разности медиан"
   ]
  },
  {
   "cell_type": "code",
   "execution_count": 34,
   "metadata": {},
   "outputs": [
    {
     "name": "stdout",
     "output_type": "stream",
     "text": [
      "95% доверительный интервал для разности между медианами [-0.0122582   0.16522529]\n"
     ]
    }
   ],
   "source": [
    "delta_median_scores = map(lambda x: x[1] - x[0], zip(before_median_conversion, after_median_conversion))\n",
    "print \"95% доверительный интервал для разности между медианами\",  stat_intervals(delta_median_scores, 0.05)"
   ]
  },
  {
   "cell_type": "markdown",
   "metadata": {},
   "source": [
    "#### Интервальная оценка разности средних"
   ]
  },
  {
   "cell_type": "code",
   "execution_count": 35,
   "metadata": {},
   "outputs": [
    {
     "name": "stdout",
     "output_type": "stream",
     "text": [
      "95% доверительный интервал для разности между средними [0.01790304 0.16916526]\n"
     ]
    }
   ],
   "source": [
    "delta_mean_scores = map(lambda x: x[1] - x[0], zip(before_mean_conversion, after_mean_conversion))\n",
    "print \"95% доверительный интервал для разности между средними\",  stat_intervals(delta_mean_scores, 0.05)"
   ]
  },
  {
   "cell_type": "markdown",
   "metadata": {},
   "source": [
    "Поскольку данные распределены нормально можно воспользоваться критерием Манна — Уитни для выявления достоверности различия между значениями параметра в выборках"
   ]
  },
  {
   "cell_type": "markdown",
   "metadata": {},
   "source": [
    "#### Оценка различий между данными до и после при помощи критерия Манна — Уитни"
   ]
  },
  {
   "cell_type": "code",
   "execution_count": 36,
   "metadata": {},
   "outputs": [
    {
     "name": "stdout",
     "output_type": "stream",
     "text": [
      "Критерий Манна — Уитни 0.008611214332858146\n"
     ]
    }
   ],
   "source": [
    "statistic, pvalue = stats.mannwhitneyu(beforeTestConversion['conversion'].values, afterTestConversion['conversion'].values)\n",
    "print \"Критерий Манна — Уитни\", pvalue"
   ]
  },
  {
   "cell_type": "markdown",
   "metadata": {},
   "source": [
    "Чем меньше значение критерия, тем вероятнее, что различия между значениями параметра в выборках достоверны."
   ]
  },
  {
   "cell_type": "markdown",
   "metadata": {},
   "source": [
    "Чтобы удостовериться в полученных данных проведем коррекцию на множественное тестирование"
   ]
  },
  {
   "cell_type": "markdown",
   "metadata": {},
   "source": [
    "#### Поправка Холма-Бонферрони"
   ]
  },
  {
   "cell_type": "markdown",
   "metadata": {},
   "source": [
    "Сделаем поправку Холма-Бонферрони на множественную проверку с α = 0.01"
   ]
  },
  {
   "cell_type": "code",
   "execution_count": 37,
   "metadata": {},
   "outputs": [
    {
     "name": "stdout",
     "output_type": "stream",
     "text": [
      "[ True]\n",
      "[0.00861121]\n"
     ]
    }
   ],
   "source": [
    "reject, p_corrected, a1, a2 = multipletests(pvalue, alpha = 0.01, method = 'bonferroni')\n",
    "print(reject)\n",
    "print(p_corrected)"
   ]
  },
  {
   "cell_type": "markdown",
   "metadata": {},
   "source": [
    "Видим что вероятность появления ошибки достаточно мала"
   ]
  },
  {
   "cell_type": "markdown",
   "metadata": {},
   "source": [
    "В итоге видим, что изменния в конверсии статистически значимы. Значит на основании данного анализа можно утверждать:\n",
    "* <b>Конверсия после внедрения одностраничной формы оформления заказа выросла примерно на 3 процента</b>"
   ]
  }
 ],
 "metadata": {
  "kernelspec": {
   "display_name": "Python 2",
   "language": "python",
   "name": "python2"
  },
  "language_info": {
   "codemirror_mode": {
    "name": "ipython",
    "version": 2
   },
   "file_extension": ".py",
   "mimetype": "text/x-python",
   "name": "python",
   "nbconvert_exporter": "python",
   "pygments_lexer": "ipython2",
   "version": "2.7.14"
  }
 },
 "nbformat": 4,
 "nbformat_minor": 2
}
